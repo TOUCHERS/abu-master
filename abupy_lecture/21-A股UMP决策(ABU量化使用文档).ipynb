{
 "cells": [
  {
   "cell_type": "code",
   "execution_count": 2,
   "metadata": {},
   "outputs": [
    {
     "name": "stderr",
     "output_type": "stream",
     "text": [
      "enable example env will only read RomDataBu/csv\n"
     ]
    }
   ],
   "source": [
    "# 基础库导入\n",
    "\n",
    "\n",
    "\n",
    "\n",
    "import warnings\n",
    "warnings.filterwarnings('ignore')\n",
    "warnings.simplefilter('ignore')\n",
    "\n",
    "import numpy as np\n",
    "import pandas as pd\n",
    "import matplotlib.pyplot as plt\n",
    "import ipywidgets\n",
    "%matplotlib inline\n",
    "\n",
    "import os\n",
    "import sys\n",
    "# 使用insert 0即只使用github，避免交叉使用了pip安装的abupy，导致的版本不一致问题\n",
    "sys.path.insert(0, os.path.abspath('../'))\n",
    "import abupy\n",
    "\n",
    "# 使用沙盒数据，目的是和书中一样的数据环境\n",
    "abupy.env.enable_example_env_ipython()"
   ]
  },
  {
   "cell_type": "code",
   "execution_count": 3,
   "metadata": {},
   "outputs": [
    {
     "name": "stderr",
     "output_type": "stream",
     "text": [
      "disable example env\n"
     ]
    }
   ],
   "source": [
    "from abupy import AbuFactorAtrNStop, AbuFactorPreAtrNStop, AbuFactorCloseAtrNStop, AbuFactorBuyBreak\n",
    "from abupy import abu, EMarketTargetType, AbuMetricsBase, ABuMarketDrawing, ABuProgress, ABuSymbolPd\n",
    "from abupy import EMarketTargetType, EDataCacheType, EMarketSourceType, EMarketDataFetchMode, EStoreAbu, AbuUmpMainMul\n",
    "from abupy import AbuUmpMainDeg, AbuUmpMainJump, AbuUmpMainPrice, AbuUmpMainWave, feature, AbuFeatureDegExtend\n",
    "from abupy import AbuUmpEdgeDeg, AbuUmpEdgePrice, AbuUmpEdgeWave, AbuUmpEdgeFull, AbuUmpEdgeMul, AbuUmpEegeDegExtend\n",
    "from abupy import AbuUmpMainDegExtend, ump, Parallel, delayed, AbuMulPidProgress\n",
    "\n",
    "# 关闭沙盒数据\n",
    "abupy.env.disable_example_env_ipython()"
   ]
  },
  {
   "cell_type": "markdown",
   "metadata": {},
   "source": [
    "下面读取上一节存储的训练集和测试集回测数据，如下所示："
   ]
  },
  {
   "cell_type": "code",
   "execution_count": 4,
   "metadata": {},
   "outputs": [
    {
     "name": "stderr",
     "output_type": "stream",
     "text": [
      "metrics input is invalid or zero order gen!\n",
      "metrics input is invalid or zero order gen!\n",
      "metrics input is invalid or zero order gen!\n",
      "metrics input is invalid or zero order gen!\n"
     ]
    },
    {
     "name": "stdout",
     "output_type": "stream",
     "text": [
      "训练集结果：\n",
      "测试集结果：\n"
     ]
    }
   ],
   "source": [
    "abupy.env.g_market_target = EMarketTargetType.E_MARKET_TARGET_CN\n",
    "abupy.env.g_data_fetch_mode = EMarketDataFetchMode.E_DATA_FETCH_FORCE_LOCAL\n",
    "abu_result_tuple = abu.load_abu_result_tuple(n_folds=5, store_type=EStoreAbu.E_STORE_CUSTOM_NAME, \n",
    "                                             custom_name='train_cn')\n",
    "abu_result_tuple_test = abu.load_abu_result_tuple(n_folds=5, store_type=EStoreAbu.E_STORE_CUSTOM_NAME, \n",
    "                                             custom_name='test_cn')\n",
    "ABuProgress.clear_output()\n",
    "print('训练集结果：')\n",
    "metrics_train = AbuMetricsBase.show_general(*abu_result_tuple, returns_cmp=True ,only_info=True)\n",
    "print('测试集结果：')\n",
    "metrics_test  = AbuMetricsBase.show_general(*abu_result_tuple_test, returns_cmp=True, only_info=True)"
   ]
  },
  {
   "cell_type": "markdown",
   "metadata": {
    "collapsed": true
   },
   "source": [
    "### 1. A股训练集主裁训练\n",
    "\n",
    "下面开始使用训练集交易数据训练主裁，裁判组合使用两个abupy中内置裁判AbuUmpMainDeg和AbuUmpMainPrice，两个外部自定义裁判使用‘第18节 自定义裁判决策交易‘中编写的AbuUmpMainMul和AbuUmpMainDegExtend\n",
    "\n",
    "第一次运行select：train main ump，然后点击run select，如果已经训练过可select：load main ump直接读取以训练好的主裁："
   ]
  },
  {
   "cell_type": "code",
   "execution_count": 6,
   "metadata": {},
   "outputs": [
    {
     "data": {
      "application/vnd.jupyter.widget-view+json": {
       "model_id": "4c2049d82e7e4cfb986311abdb97ef72",
       "version_major": 2,
       "version_minor": 0
      },
      "text/plain": [
       "interactive(children=(Dropdown(description='select', options=('train main ump', 'load main ump'), value='train…"
      ]
     },
     "metadata": {},
     "output_type": "display_data"
    }
   ],
   "source": [
    "# 需要全局设置为A股市场，在ump会根据市场类型保存读取对应的ump\n",
    "abupy.env.g_market_target = EMarketTargetType.E_MARKET_TARGET_CN\n",
    "ump_deg=None\n",
    "ump_mul=None\n",
    "ump_price=None\n",
    "ump_main_deg_extend=None\n",
    "# 使用训练集交易数据训练主裁\n",
    "orders_pd_train_cn = abu_result_tuple.orders_pd\n",
    "\n",
    "def train_main_ump():\n",
    "    print('AbuUmpMainDeg begin...')\n",
    "    AbuUmpMainDeg.ump_main_clf_dump(orders_pd_train_cn, save_order=False, show_order=False)\n",
    "    print('AbuUmpMainPrice begin...')\n",
    "    AbuUmpMainPrice.ump_main_clf_dump(orders_pd_train_cn, save_order=False, show_order=False)\n",
    "    print('AbuUmpMainMul begin...')\n",
    "    AbuUmpMainMul.ump_main_clf_dump(orders_pd_train_cn, save_order=False, show_order=False)\n",
    "    print('AbuUmpMainDegExtend begin...')\n",
    "    AbuUmpMainDegExtend.ump_main_clf_dump(orders_pd_train_cn, save_order=False, show_order=False)\n",
    "    # 依然使用load_main_ump，避免下面多进程内存拷贝过大\n",
    "    load_main_ump()\n",
    "    \n",
    "def load_main_ump():\n",
    "    global ump_deg, ump_mul, ump_price, ump_main_deg_extend\n",
    "    ump_deg = AbuUmpMainDeg(predict=True)\n",
    "    ump_mul = AbuUmpMainMul(predict=True)\n",
    "    ump_price = AbuUmpMainPrice(predict=True)\n",
    "    ump_main_deg_extend = AbuUmpMainDegExtend(predict=True)\n",
    "    print('load main ump complete!')\n",
    "\n",
    "def select(select):\n",
    "    if select == 'train main ump':\n",
    "        train_main_ump()\n",
    "    else:\n",
    "        load_main_ump()\n",
    "\n",
    "_ = ipywidgets.interact_manual(select, select=['train main ump', 'load main ump'])"
   ]
  },
  {
   "cell_type": "markdown",
   "metadata": {
    "collapsed": true
   },
   "source": [
    "### 2. 验证A股主裁是否称职"
   ]
  },
  {
   "cell_type": "markdown",
   "metadata": {},
   "source": [
    "下面首先通过从测试集交易中筛选出来已经有交易结果的交易，如下："
   ]
  },
  {
   "cell_type": "code",
   "execution_count": 7,
   "metadata": {},
   "outputs": [
    {
     "ename": "AttributeError",
     "evalue": "'NoneType' object has no attribute 'result'",
     "output_type": "error",
     "traceback": [
      "\u001b[0;31m---------------------------------------------------------------------------\u001b[0m",
      "\u001b[0;31mAttributeError\u001b[0m                            Traceback (most recent call last)",
      "Input \u001b[0;32mIn [7]\u001b[0m, in \u001b[0;36m<cell line: 2>\u001b[0;34m()\u001b[0m\n\u001b[1;32m      1\u001b[0m \u001b[38;5;66;03m# 选取有交易结果的数据order_has_result\u001b[39;00m\n\u001b[0;32m----> 2\u001b[0m order_has_result \u001b[38;5;241m=\u001b[39m abu_result_tuple_test\u001b[38;5;241m.\u001b[39morders_pd[\u001b[43mabu_result_tuple_test\u001b[49m\u001b[38;5;241;43m.\u001b[39;49m\u001b[43morders_pd\u001b[49m\u001b[38;5;241;43m.\u001b[39;49m\u001b[43mresult\u001b[49m \u001b[38;5;241m!=\u001b[39m \u001b[38;5;241m0\u001b[39m]\n",
      "\u001b[0;31mAttributeError\u001b[0m: 'NoneType' object has no attribute 'result'"
     ]
    }
   ],
   "source": [
    "# 选取有交易结果的数据order_has_result\n",
    "order_has_result = abu_result_tuple_test.orders_pd[abu_result_tuple_test.orders_pd.result != 0]"
   ]
  },
  {
   "cell_type": "markdown",
   "metadata": {},
   "source": [
    "order_has_result的交易单中记录了所买入时刻的交易特征，如下所示："
   ]
  },
  {
   "cell_type": "code",
   "execution_count": 1,
   "metadata": {},
   "outputs": [
    {
     "ename": "NameError",
     "evalue": "name 'order_has_result' is not defined",
     "output_type": "error",
     "traceback": [
      "\u001b[0;31m---------------------------------------------------------------------------\u001b[0m",
      "\u001b[0;31mNameError\u001b[0m                                 Traceback (most recent call last)",
      "Input \u001b[0;32mIn [1]\u001b[0m, in \u001b[0;36m<cell line: 1>\u001b[0;34m()\u001b[0m\n\u001b[0;32m----> 1\u001b[0m \u001b[43morder_has_result\u001b[49m\u001b[38;5;241m.\u001b[39mfilter(regex\u001b[38;5;241m=\u001b[39m\u001b[38;5;124m'\u001b[39m\u001b[38;5;124m^buy(_deg_|_price_|_wave_|_jump)\u001b[39m\u001b[38;5;124m'\u001b[39m)\u001b[38;5;241m.\u001b[39mhead()\n",
      "\u001b[0;31mNameError\u001b[0m: name 'order_has_result' is not defined"
     ]
    }
   ],
   "source": [
    "order_has_result.filter(regex='^buy(_deg_|_price_|_wave_|_jump)').head()"
   ]
  },
  {
   "cell_type": "markdown",
   "metadata": {},
   "source": [
    "可以通过一个一个迭代交易单，将交易单中的买入时刻特征传递给ump主裁决策器，让每一个主裁来决策是否进行拦截，这样可以统计每一个主裁的拦截成功率，以及整体拦截率等，如下所示：\n",
    "\n",
    "备注：\n",
    "\n",
    "* 如下的代码使用abupy中再次封装joblib的多进程调度使用示例，以及abupy中封装的多进程进度条的使用示例\n",
    "* 3.4下由于子进程中pickle ump的内部类会找不到，所以暂时只使用一个进程一个一个的处理"
   ]
  },
  {
   "cell_type": "code",
   "execution_count": 18,
   "metadata": {},
   "outputs": [
    {
     "name": "stdout",
     "output_type": "stream",
     "text": [
      "pid:18298 ump_deg complete:99.67%\n",
      "pid:18298 done!\n"
     ]
    }
   ],
   "source": [
    "def apply_ml_features_ump(order, predicter, progress, need_hit_cnt):\n",
    "    if not isinstance(order.ml_features, dict):\n",
    "        import ast\n",
    "        # 低版本pandas dict对象取出来会成为str\n",
    "        ml_features = ast.literal_eval(order.ml_features)\n",
    "    else:\n",
    "        ml_features = order.ml_features\n",
    "    progress.show()\n",
    "    # 将交易单中的买入时刻特征传递给ump主裁决策器，让每一个主裁来决策是否进行拦截\n",
    "    return predicter.predict_kwargs(need_hit_cnt=need_hit_cnt, **ml_features)\n",
    "\n",
    "def pararllel_func(ump_object, ump_name):\n",
    "    with AbuMulPidProgress(len(order_has_result), '{} complete'.format(ump_name)) as progress:\n",
    "        # 启动多进程进度条，对order_has_result进行apply\n",
    "        ump_result = order_has_result.apply(apply_ml_features_ump, axis=1, args=(ump_object, progress, 2,))\n",
    "    return ump_name, ump_result\n",
    "\n",
    "if sys.version_info > (3, 4, 0):\n",
    "    # python3.4以上并行处理4个主裁，每一个主裁启动一个进程进行拦截决策\n",
    "    parallel = Parallel(\n",
    "        n_jobs=4, verbose=0, pre_dispatch='2*n_jobs')\n",
    "    out = parallel(delayed(pararllel_func)(ump_object, ump_name)\n",
    "                                  for ump_object, ump_name in zip([ump_deg, ump_mul, ump_price, ump_main_deg_extend], \n",
    "                                                           ['ump_deg', 'ump_mul', 'ump_price', 'ump_main_deg_extend']))\n",
    "else:\n",
    "    # 3.4下由于子进程中pickle ump的内部类会找不到，所以暂时只使用一个进程一个一个的处理\n",
    "    out = [pararllel_func(ump_object, ump_name) for ump_object, ump_name in zip([ump_deg, ump_mul, ump_price, ump_main_deg_extend], \n",
    "                                                           ['ump_deg', 'ump_mul', 'ump_price', 'ump_main_deg_extend'])]\n",
    "\n",
    "# 将每一个进程中的裁判的拦截决策进行汇总\n",
    "for sub_out in out:\n",
    "    order_has_result[sub_out[0]] = sub_out[1]"
   ]
  },
  {
   "cell_type": "markdown",
   "metadata": {},
   "source": [
    "通过把所有主裁的决策进行相加, 如果有投票1的即会进行拦截，四个裁判整体拦截正确率统计："
   ]
  },
  {
   "cell_type": "code",
   "execution_count": 19,
   "metadata": {},
   "outputs": [
    {
     "name": "stdout",
     "output_type": "stream",
     "text": [
      "四个裁判整体拦截正确率61.71%\n"
     ]
    },
    {
     "data": {
      "text/html": [
       "<div>\n",
       "<table border=\"1\" class=\"dataframe\">\n",
       "  <thead>\n",
       "    <tr style=\"text-align: right;\">\n",
       "      <th></th>\n",
       "      <th>ump_deg</th>\n",
       "      <th>ump_mul</th>\n",
       "      <th>ump_price</th>\n",
       "      <th>ump_main_deg_extend</th>\n",
       "      <th>sum_bk</th>\n",
       "      <th>result</th>\n",
       "    </tr>\n",
       "  </thead>\n",
       "  <tbody>\n",
       "    <tr>\n",
       "      <th>2017-07-20</th>\n",
       "      <td>1</td>\n",
       "      <td>1</td>\n",
       "      <td>1</td>\n",
       "      <td>1</td>\n",
       "      <td>4</td>\n",
       "      <td>-1</td>\n",
       "    </tr>\n",
       "    <tr>\n",
       "      <th>2017-07-21</th>\n",
       "      <td>0</td>\n",
       "      <td>1</td>\n",
       "      <td>1</td>\n",
       "      <td>1</td>\n",
       "      <td>3</td>\n",
       "      <td>-1</td>\n",
       "    </tr>\n",
       "    <tr>\n",
       "      <th>2017-07-21</th>\n",
       "      <td>0</td>\n",
       "      <td>1</td>\n",
       "      <td>1</td>\n",
       "      <td>1</td>\n",
       "      <td>3</td>\n",
       "      <td>-1</td>\n",
       "    </tr>\n",
       "    <tr>\n",
       "      <th>2017-08-01</th>\n",
       "      <td>0</td>\n",
       "      <td>1</td>\n",
       "      <td>1</td>\n",
       "      <td>1</td>\n",
       "      <td>3</td>\n",
       "      <td>-1</td>\n",
       "    </tr>\n",
       "    <tr>\n",
       "      <th>2017-08-03</th>\n",
       "      <td>0</td>\n",
       "      <td>1</td>\n",
       "      <td>1</td>\n",
       "      <td>1</td>\n",
       "      <td>3</td>\n",
       "      <td>-1</td>\n",
       "    </tr>\n",
       "  </tbody>\n",
       "</table>\n",
       "</div>"
      ],
      "text/plain": [
       "            ump_deg  ump_mul  ump_price  ump_main_deg_extend  sum_bk  result\n",
       "2017-07-20        1        1          1                    1       4      -1\n",
       "2017-07-21        0        1          1                    1       3      -1\n",
       "2017-07-21        0        1          1                    1       3      -1\n",
       "2017-08-01        0        1          1                    1       3      -1\n",
       "2017-08-03        0        1          1                    1       3      -1"
      ]
     },
     "execution_count": 19,
     "metadata": {},
     "output_type": "execute_result"
    }
   ],
   "source": [
    "block_pd = order_has_result.filter(regex='^ump_*')\n",
    "# 把所有主裁的决策进行相加\n",
    "block_pd['sum_bk'] = block_pd.sum(axis=1)\n",
    "block_pd['result'] = order_has_result['result']\n",
    "# 有投票1的即会进行拦截\n",
    "block_pd = block_pd[block_pd.sum_bk > 0]\n",
    "print('四个裁判整体拦截正确率{:.2f}%'.format(block_pd[block_pd.result == -1].result.count() / block_pd.result.count() * 100))\n",
    "block_pd.tail()"
   ]
  },
  {
   "cell_type": "markdown",
   "metadata": {},
   "source": [
    "下面统计每一个主裁的拦截正确率："
   ]
  },
  {
   "cell_type": "code",
   "execution_count": 20,
   "metadata": {},
   "outputs": [
    {
     "name": "stdout",
     "output_type": "stream",
     "text": [
      "角度裁判拦截正确率65.09%, 拦截交易数量974\n",
      "角度扩展裁判拦拦截正确率65.64%, 拦截交易数量1039\n",
      "单混裁判拦截正确率63.30%, 拦截交易数量534\n",
      "价格裁判拦截正确率64.57%, 拦截交易数量796\n"
     ]
    }
   ],
   "source": [
    "from sklearn import metrics\n",
    "def sub_ump_show(block_name):\n",
    "    sub_block_pd = block_pd[(block_pd[block_name] == 1)]\n",
    "    # 如果失败就正确 －1->1 1->0\n",
    "    sub_block_pd.result = np.where(sub_block_pd.result == -1, 1, 0)\n",
    "    return metrics.accuracy_score(sub_block_pd[block_name], sub_block_pd.result) * 100, sub_block_pd.result.count()\n",
    "\n",
    "print('角度裁判拦截正确率{:.2f}%, 拦截交易数量{}'.format(*sub_ump_show('ump_deg')))\n",
    "print('角度扩展裁判拦拦截正确率{:.2f}%, 拦截交易数量{}'.format(*sub_ump_show('ump_main_deg_extend')))\n",
    "print('单混裁判拦截正确率{:.2f}%, 拦截交易数量{}'.format(*sub_ump_show('ump_mul')))\n",
    "print('价格裁判拦截正确率{:.2f}%, 拦截交易数量{}'.format(*sub_ump_show('ump_price')))"
   ]
  },
  {
   "cell_type": "markdown",
   "metadata": {},
   "source": [
    "### 3. A股训练集边裁训练\n",
    "\n",
    "下面开始使用训练集交易数据训练训裁，裁判组合依然使用两个abupy中内置裁判AbuUmpEdgeDeg和AbuUmpEdgePrice，两个外部自定义裁判使用‘第18节 自定义裁判决策交易‘中编写的AbuUmpEdgeMul和AbuUmpEegeDegExtend，如下所示\n",
    "\n",
    "备注：由于边裁的运行机制，所以边裁的训练非常快，这里直接进行训练，不再从本地读取裁判决策数据"
   ]
  },
  {
   "cell_type": "code",
   "execution_count": 15,
   "metadata": {},
   "outputs": [
    {
     "name": "stdout",
     "output_type": "stream",
     "text": [
      "AbuUmpEdgeDeg begin...\n",
      "please wait! dump_pickle....: /Users/Bailey/abu/data/ump/ump_edge_hs_deg_edge\n",
      "AbuUmpEdgePrice begin...\n",
      "please wait! dump_pickle....: /Users/Bailey/abu/data/ump/ump_edge_hs_price_edge\n",
      "AbuUmpEdgeMul begin...\n",
      "please wait! dump_pickle....: /Users/Bailey/abu/data/ump/ump_edge_hs_mul_edge\n",
      "AbuUmpEegeDegExtend begin...\n",
      "please wait! dump_pickle....: /Users/Bailey/abu/data/ump/ump_edge_hs_extend_edge_deg\n",
      "fit edge complete!\n"
     ]
    }
   ],
   "source": [
    "# 需要全局设置为A股市场，在ump会根据市场类型保存读取对应的ump\n",
    "abupy.env.g_market_target = EMarketTargetType.E_MARKET_TARGET_CN\n",
    "\n",
    "print('AbuUmpEdgeDeg begin...')\n",
    "AbuUmpEdgeDeg.ump_edge_clf_dump(orders_pd_train_cn)\n",
    "edge_deg = AbuUmpEdgeDeg(predict=True)\n",
    "\n",
    "print('AbuUmpEdgePrice begin...')\n",
    "AbuUmpEdgePrice.ump_edge_clf_dump(orders_pd_train_cn)\n",
    "edge_price = AbuUmpEdgePrice(predict=True)\n",
    "\n",
    "print('AbuUmpEdgeMul begin...')\n",
    "AbuUmpEdgeMul.ump_edge_clf_dump(orders_pd_train_cn)\n",
    "edge_mul = AbuUmpEdgeMul(predict=True)\n",
    "\n",
    "print('AbuUmpEegeDegExtend begin...')\n",
    "AbuUmpEegeDegExtend.ump_edge_clf_dump(orders_pd_train_cn)\n",
    "edge_deg_extend = AbuUmpEegeDegExtend(predict=True)\n",
    "\n",
    "print('fit edge complete!')"
   ]
  },
  {
   "cell_type": "markdown",
   "metadata": {},
   "source": [
    "### 4. 验证A股边裁是否称职"
   ]
  },
  {
   "cell_type": "markdown",
   "metadata": {},
   "source": [
    "使用与主裁类似的方式，一个一个迭代交易单，将交易单中的买入时刻特征传递给ump边裁决策器，让每一个边裁来决策是否进行拦截，统计每一个边裁的拦截成功率，以及整体拦截率等，如下所示：\n",
    "\n",
    "备注：如下的代码使用abupy中再次封装joblib的多进程调度使用示例，以及abupy中封装的多进程进度条的使用示例"
   ]
  },
  {
   "cell_type": "code",
   "execution_count": 17,
   "metadata": {},
   "outputs": [
    {
     "name": "stdout",
     "output_type": "stream",
     "text": [
      "pid:18632 edge_mul complete:99.67%\n",
      "pid:18632 done!\n"
     ]
    }
   ],
   "source": [
    "def apply_ml_features_edge(order, predicter, progress):\n",
    "    if not isinstance(order.ml_features, dict):\n",
    "        import ast\n",
    "        # 低版本pandas dict对象取出来会成为str\n",
    "        ml_features = ast.literal_eval(order.ml_features)\n",
    "    else:\n",
    "        ml_features = order.ml_features\n",
    "    # 边裁进行裁决\n",
    "    progress.show()\n",
    "    # 将交易单中的买入时刻特征传递给ump边裁决策器，让每一个边裁来决策是否进行拦截\n",
    "    edge = predicter.predict(**ml_features)\n",
    "    return edge.value\n",
    "\n",
    "\n",
    "def edge_pararllel_func(edge, edge_name):\n",
    "    with AbuMulPidProgress(len(order_has_result), '{} complete'.format(edge_name)) as progress:\n",
    "        # # 启动多进程进度条，对order_has_result进行apply\n",
    "        edge_result = order_has_result.apply(apply_ml_features_edge, axis=1, args=(edge, progress,))\n",
    "    return edge_name, edge_result\n",
    "\n",
    "if sys.version_info > (3, 4, 0):\n",
    "    # python3.4以上并行处理4个边裁的决策，每一个边裁启动一个进程进行拦截决策\n",
    "    parallel = Parallel(\n",
    "        n_jobs=4, verbose=0, pre_dispatch='2*n_jobs')\n",
    "    out = parallel(delayed(edge_pararllel_func)(edge, edge_name)\n",
    "                                  for edge, edge_name in zip([edge_deg, edge_price, edge_mul, edge_deg_extend], \n",
    "                                                           ['edge_deg', 'edge_price', 'edge_mul', 'edge_deg_extend']))\n",
    "else:\n",
    "    # 3.4下由于子进程中pickle ump的内部类会找不到，所以暂时只使用一个进程一个一个的处理\n",
    "    out = [edge_pararllel_func(edge, edge_name) for edge, edge_name in zip([edge_deg, edge_price, edge_mul, edge_deg_extend], \n",
    "                                                           ['edge_deg', 'edge_price', 'edge_mul', 'edge_deg_extend'])]\n",
    "     \n",
    "# 将每一个进程中的裁判的拦截决策进行汇总\n",
    "for sub_out in out:\n",
    "    order_has_result[sub_out[0]] = sub_out[1]"
   ]
  },
  {
   "cell_type": "markdown",
   "metadata": {},
   "source": [
    "通过把所有边裁的决策进行统计, 如果有投票-1的结果即判定loss_top的拿出来和真实交易结果result组成结果集，统计四个边裁的整体拦截正确率以及拦截率，如下所示："
   ]
  },
  {
   "cell_type": "code",
   "execution_count": 18,
   "metadata": {},
   "outputs": [
    {
     "name": "stdout",
     "output_type": "stream",
     "text": [
      "四个裁判整体拦截正确率59.53%\n",
      "四个边裁拦截交易总数2874， 拦截率45.47%\n"
     ]
    },
    {
     "data": {
      "text/html": [
       "<div>\n",
       "<table border=\"1\" class=\"dataframe\">\n",
       "  <thead>\n",
       "    <tr style=\"text-align: right;\">\n",
       "      <th></th>\n",
       "      <th>edge_deg</th>\n",
       "      <th>edge_price</th>\n",
       "      <th>edge_mul</th>\n",
       "      <th>edge_deg_extend</th>\n",
       "      <th>edge_block</th>\n",
       "      <th>result</th>\n",
       "    </tr>\n",
       "  </thead>\n",
       "  <tbody>\n",
       "    <tr>\n",
       "      <th>2012-10-12</th>\n",
       "      <td>1</td>\n",
       "      <td>0</td>\n",
       "      <td>-1</td>\n",
       "      <td>0</td>\n",
       "      <td>-1</td>\n",
       "      <td>-1</td>\n",
       "    </tr>\n",
       "    <tr>\n",
       "      <th>2012-10-12</th>\n",
       "      <td>-1</td>\n",
       "      <td>0</td>\n",
       "      <td>1</td>\n",
       "      <td>0</td>\n",
       "      <td>-1</td>\n",
       "      <td>1</td>\n",
       "    </tr>\n",
       "    <tr>\n",
       "      <th>2012-10-12</th>\n",
       "      <td>0</td>\n",
       "      <td>-1</td>\n",
       "      <td>-1</td>\n",
       "      <td>0</td>\n",
       "      <td>-1</td>\n",
       "      <td>-1</td>\n",
       "    </tr>\n",
       "    <tr>\n",
       "      <th>2012-10-12</th>\n",
       "      <td>-1</td>\n",
       "      <td>-1</td>\n",
       "      <td>0</td>\n",
       "      <td>0</td>\n",
       "      <td>-1</td>\n",
       "      <td>-1</td>\n",
       "    </tr>\n",
       "    <tr>\n",
       "      <th>2012-10-12</th>\n",
       "      <td>0</td>\n",
       "      <td>-1</td>\n",
       "      <td>-1</td>\n",
       "      <td>0</td>\n",
       "      <td>-1</td>\n",
       "      <td>1</td>\n",
       "    </tr>\n",
       "  </tbody>\n",
       "</table>\n",
       "</div>"
      ],
      "text/plain": [
       "            edge_deg  edge_price  edge_mul  edge_deg_extend  edge_block  \\\n",
       "2012-10-12         1           0        -1                0          -1   \n",
       "2012-10-12        -1           0         1                0          -1   \n",
       "2012-10-12         0          -1        -1                0          -1   \n",
       "2012-10-12        -1          -1         0                0          -1   \n",
       "2012-10-12         0          -1        -1                0          -1   \n",
       "\n",
       "            result  \n",
       "2012-10-12      -1  \n",
       "2012-10-12       1  \n",
       "2012-10-12      -1  \n",
       "2012-10-12      -1  \n",
       "2012-10-12       1  "
      ]
     },
     "execution_count": 18,
     "metadata": {},
     "output_type": "execute_result"
    }
   ],
   "source": [
    "block_pd = order_has_result.filter(regex='^edge_*')\n",
    "\"\"\"\n",
    "    由于predict返回的结果中1代表win top\n",
    "    但是我们只需要知道loss_top，所以只保留-1, 其他1转换为0。\n",
    "\"\"\"\n",
    "block_pd['edge_block'] = \\\n",
    "    np.where(np.min(block_pd, axis=1) == -1, -1, 0)\n",
    "\n",
    "# 拿出真实的交易结果\n",
    "block_pd['result'] = order_has_result['result']\n",
    "# 拿出-1的结果，即判定loss_top的\n",
    "block_pd = block_pd[block_pd.edge_block == -1]\n",
    "\n",
    "\n",
    "print('四个裁判整体拦截正确率{:.2f}%'.format(block_pd[block_pd.result == -1].result.count() / \n",
    "                                  block_pd.result.count() * 100))\n",
    "\n",
    "print('四个边裁拦截交易总数{}， 拦截率{:.2f}%'.format(\n",
    "    block_pd.shape[0],\n",
    "    block_pd.shape[0] / order_has_result.shape[0] * 100))\n",
    "block_pd.head()"
   ]
  },
  {
   "cell_type": "markdown",
   "metadata": {},
   "source": [
    "下面再统计每一个 边裁的拦截正确率："
   ]
  },
  {
   "cell_type": "code",
   "execution_count": 19,
   "metadata": {},
   "outputs": [
    {
     "name": "stdout",
     "output_type": "stream",
     "text": [
      "角度边裁拦截正确率63.69%, 拦截交易数量1300\n",
      "单混边裁拦截正确率63.78%, 拦截交易数量1132\n",
      "价格边裁拦截正确率60.76%, 拦截交易数量1259\n",
      "角度扩展边裁拦截正确率67.08%, 拦截交易数量978\n"
     ]
    }
   ],
   "source": [
    "from sklearn import metrics\n",
    "def sub_edge_show(edge_name):\n",
    "    sub_edge_block_pd = order_has_result[(order_has_result[edge_name] == -1)]\n",
    "    return metrics.accuracy_score(sub_edge_block_pd[edge_name], sub_edge_block_pd.result) * 100, sub_edge_block_pd.shape[0]\n",
    "\n",
    "print('角度边裁拦截正确率{0:.2f}%, 拦截交易数量{1:}'.format(*sub_edge_show('edge_deg')))\n",
    "print('单混边裁拦截正确率{0:.2f}%, 拦截交易数量{1:}'.format(*sub_edge_show('edge_mul')))\n",
    "print('价格边裁拦截正确率{0:.2f}%, 拦截交易数量{1:}'.format(*sub_edge_show('edge_price')))\n",
    "print('角度扩展边裁拦截正确率{0:.2f}%, 拦截交易数量{1:}'.format(*sub_edge_show('edge_deg_extend')))"
   ]
  },
  {
   "cell_type": "markdown",
   "metadata": {},
   "source": [
    "### 4. 在abu系统中开启主裁拦截模式，开启边裁拦截模式\n",
    "\n",
    "内置边裁的开启很简单，只需要通过env中的相关设置即可完成，如下所示，分别开启主裁和边裁的两个内置裁判："
   ]
  },
  {
   "cell_type": "code",
   "execution_count": 22,
   "metadata": {
    "collapsed": true
   },
   "outputs": [],
   "source": [
    "# 开启内置主裁\n",
    "abupy.env.g_enable_ump_main_deg_block = True\n",
    "abupy.env.g_enable_ump_main_price_block = True\n",
    "\n",
    "# 开启内置边裁\n",
    "abupy.env.g_enable_ump_edge_deg_block = True\n",
    "abupy.env.g_enable_ump_edge_price_block = True\n",
    "\n",
    "# 回测时需要开启特征生成，因为裁判开启需要生成特征做为输入\n",
    "abupy.env.g_enable_ml_feature = True\n",
    "# 回测时使用上一次切割好的测试集数据\n",
    "abupy.env.g_enable_last_split_test = True\n",
    "\n",
    "abupy.beta.atr.g_atr_pos_base = 0.05"
   ]
  },
  {
   "cell_type": "markdown",
   "metadata": {},
   "source": [
    "* 用户自定义裁判的开启在‘第18节 自定义裁判决策交易‘ 也示例过，通过ump.manager.append_user_ump即可\n",
    "\n",
    "* 注意下面还需要把10，30，50，90，120日走势拟合角度特征的AbuFeatureDegExtend，做为回测时的新的视角来录制比赛（记录回测特征），因为裁判里面有AbuUmpEegeDegExtend和AbuUmpMainDegExtend，它们需要生成带有10，30，50，90，120日走势拟合角度特征的回测交易单\n",
    "\n",
    "代码如下所示："
   ]
  },
  {
   "cell_type": "code",
   "execution_count": 20,
   "metadata": {
    "collapsed": true
   },
   "outputs": [],
   "source": [
    "feature.clear_user_feature()\n",
    "# 10，30，50，90，120日走势拟合角度特征的AbuFeatureDegExtend，做为回测时的新的视角来录制比赛\n",
    "feature.append_user_feature(AbuFeatureDegExtend)\n",
    "\n",
    "# 打开使用用户自定义裁判开关\n",
    "ump.manager.g_enable_user_ump = True\n",
    "# 先clear一下\n",
    "ump.manager.clear_user_ump()\n",
    "# 把新的裁判AbuUmpMainDegExtend类名称使用append_user_ump添加到系统中\n",
    "ump.manager.append_user_ump(AbuUmpEegeDegExtend)\n",
    "# 把新的裁判AbuUmpMainDegExtend类名称使用append_user_ump添加到系统中\n",
    "ump.manager.append_user_ump(AbuUmpMainDegExtend)"
   ]
  },
  {
   "cell_type": "markdown",
   "metadata": {},
   "source": [
    "买入因子，卖出因子等依然使用相同的设置，如下所示："
   ]
  },
  {
   "cell_type": "code",
   "execution_count": 25,
   "metadata": {
    "collapsed": true
   },
   "outputs": [],
   "source": [
    "# 初始化资金500万\n",
    "read_cash = 5000000\n",
    "\n",
    "# 买入因子依然延用向上突破因子\n",
    "buy_factors = [{'xd': 60, 'class': AbuFactorBuyBreak},\n",
    "               {'xd': 42, 'class': AbuFactorBuyBreak}]\n",
    "\n",
    "# 卖出因子继续使用上一节使用的因子\n",
    "sell_factors = [\n",
    "    {'stop_loss_n': 1.0, 'stop_win_n': 3.0,\n",
    "     'class': AbuFactorAtrNStop},\n",
    "    {'class': AbuFactorPreAtrNStop, 'pre_atr_n': 1.5},\n",
    "    {'class': AbuFactorCloseAtrNStop, 'close_atr_n': 1.5}\n",
    "]\n",
    "abupy.env.g_market_target = EMarketTargetType.E_MARKET_TARGET_CN\n",
    "abupy.env.g_data_fetch_mode = EMarketDataFetchMode.E_DATA_FETCH_FORCE_LOCAL"
   ]
  },
  {
   "cell_type": "markdown",
   "metadata": {},
   "source": [
    "完成裁判组合的开启，即可开始回测，回测操作流程和之前的操作一样：\n",
    "\n",
    "下面开始回测，第一次运行select：run loop back ump，然后点击run select_ump，如果已经回测过可select：load test ump data直接从缓存数据读取："
   ]
  },
  {
   "cell_type": "code",
   "execution_count": 21,
   "metadata": {},
   "outputs": [
    {
     "name": "stdout",
     "output_type": "stream",
     "text": [
      "please wait! load_pickle....: /Users/Bailey/abu/data/cache/n5_test_ump_cn_capital\n",
      "please wait! load_pickle....: /Users/Bailey/abu/data/cache/n5_test_ump_cn_benchmark\n"
     ]
    }
   ],
   "source": [
    "abupy.env.g_market_target = EMarketTargetType.E_MARKET_TARGET_CN\n",
    "abupy.env.g_data_fetch_mode = EMarketDataFetchMode.E_DATA_FETCH_FORCE_LOCAL\n",
    "\n",
    "abu_result_tuple_test_ump = None\n",
    "def run_loop_back_ump():\n",
    "    global abu_result_tuple_test_ump\n",
    "    abu_result_tuple_test_ump, _ = abu.run_loop_back(read_cash,\n",
    "                                                 buy_factors,\n",
    "                                                 sell_factors,\n",
    "                                                 choice_symbols=None,\n",
    "                                                 start='2012-08-08', end='2017-08-08')\n",
    "    # 把运行的结果保存在本地，以便之后分析回测使用，保存回测结果数据代码如下所示\n",
    "    abu.store_abu_result_tuple(abu_result_tuple_test_ump, n_folds=5, store_type=EStoreAbu.E_STORE_CUSTOM_NAME, \n",
    "                               custom_name='test_ump_cn')\n",
    "    ABuProgress.clear_output()\n",
    "\n",
    "def run_load_ump():\n",
    "    global abu_result_tuple_test_ump\n",
    "    abu_result_tuple_test_ump = abu.load_abu_result_tuple(n_folds=5, store_type=EStoreAbu.E_STORE_CUSTOM_NAME, \n",
    "                                                 custom_name='test_ump_cn')\n",
    "\n",
    "def select_ump(select):\n",
    "    if select == 'run loop back ump':\n",
    "        run_loop_back_ump()\n",
    "    else:\n",
    "        run_load_ump()\n",
    "\n",
    "_ = ipywidgets.interact_manual(select_ump, select=['run loop back ump', 'load test ump data'])"
   ]
  },
  {
   "cell_type": "markdown",
   "metadata": {},
   "source": [
    "下面对比针对A股市场测试集交易开启主裁，边裁拦截和未开启主裁，边裁，结果可以看出拦截了接近一半的交易，胜率以及盈亏比都有大幅度提高："
   ]
  },
  {
   "cell_type": "code",
   "execution_count": 23,
   "metadata": {},
   "outputs": [
    {
     "name": "stderr",
     "output_type": "stream",
     "text": [
      "买入后卖出的交易数量:3465\n",
      "买入后尚未卖出的交易数量:41\n",
      "胜率:54.3146%\n",
      "平均获利期望:17.1289%\n",
      "平均亏损期望:-6.8200%\n",
      "盈亏比:3.1242\n",
      "所有交易收益比例和:214.2996 \n",
      "所有交易总盈亏和:82209541.5500 \n"
     ]
    },
    {
     "data": {
      "text/plain": [
       "<abupy.MetricsBu.ABuMetricsBase.AbuMetricsBase at 0x1401d2160>"
      ]
     },
     "execution_count": 23,
     "metadata": {},
     "output_type": "execute_result"
    }
   ],
   "source": [
    "AbuMetricsBase.show_general(*abu_result_tuple_test_ump, returns_cmp=True, only_info=True)"
   ]
  },
  {
   "cell_type": "code",
   "execution_count": 24,
   "metadata": {},
   "outputs": [
    {
     "name": "stderr",
     "output_type": "stream",
     "text": [
      "买入后卖出的交易数量:6321\n",
      "买入后尚未卖出的交易数量:124\n",
      "胜率:47.6507%\n",
      "平均获利期望:15.7211%\n",
      "平均亏损期望:-7.6456%\n",
      "盈亏比:2.0477\n",
      "所有交易收益比例和:221.5061 \n",
      "所有交易总盈亏和:44078404.6500 \n"
     ]
    },
    {
     "data": {
      "text/plain": [
       "<abupy.MetricsBu.ABuMetricsBase.AbuMetricsBase at 0x1401d2a20>"
      ]
     },
     "execution_count": 24,
     "metadata": {},
     "output_type": "execute_result"
    }
   ],
   "source": [
    "AbuMetricsBase.show_general(*abu_result_tuple_test, returns_cmp=True, only_info=True)"
   ]
  }
 ],
 "metadata": {
  "kernelspec": {
   "display_name": "Python 3 (ipykernel)",
   "language": "python",
   "name": "python3"
  },
  "language_info": {
   "codemirror_mode": {
    "name": "ipython",
    "version": 3
   },
   "file_extension": ".py",
   "mimetype": "text/x-python",
   "name": "python",
   "nbconvert_exporter": "python",
   "pygments_lexer": "ipython3",
   "version": "3.9.12"
  }
 },
 "nbformat": 4,
 "nbformat_minor": 2
}