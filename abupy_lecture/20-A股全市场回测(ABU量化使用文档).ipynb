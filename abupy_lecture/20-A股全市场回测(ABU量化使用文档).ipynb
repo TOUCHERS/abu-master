{
 "cells": [
  {
   "cell_type": "code",
   "execution_count": 14,
   "metadata": {},
   "outputs": [
    {
     "name": "stderr",
     "output_type": "stream",
     "text": [
      "enable example env will only read RomDataBu/csv\n"
     ]
    }
   ],
   "source": [
    "# 基础库导入\n",
    "\n",
    "\n",
    "\n",
    "import warnings\n",
    "warnings.filterwarnings('ignore')\n",
    "warnings.simplefilter('ignore')\n",
    "\n",
    "import numpy as np\n",
    "import pandas as pd\n",
    "import matplotlib.pyplot as plt\n",
    "import ipywidgets\n",
    "%matplotlib inline\n",
    "\n",
    "import os\n",
    "import sys\n",
    "# 使用insert 0即只使用github，避免交叉使用了pip安装的abupy，导致的版本不一致问题\n",
    "sys.path.insert(0, os.path.abspath('../'))\n",
    "import abupy\n",
    "\n",
    "# 使用沙盒数据，目的是和书中一样的数据环境\n",
    "abupy.env.enable_example_env_ipython()"
   ]
  },
  {
   "cell_type": "code",
   "execution_count": 15,
   "metadata": {},
   "outputs": [
    {
     "name": "stderr",
     "output_type": "stream",
     "text": [
      "disable example env\n"
     ]
    }
   ],
   "source": [
    "from abupy import AbuFactorAtrNStop, AbuFactorPreAtrNStop, AbuFactorCloseAtrNStop, AbuFactorBuyBreak\n",
    "from abupy import abu, EMarketTargetType, AbuMetricsBase, ABuMarketDrawing, ABuProgress, ABuSymbolPd\n",
    "from abupy import EMarketTargetType, EDataCacheType, EMarketSourceType, EMarketDataFetchMode, EStoreAbu, AbuUmpMainMul\n",
    "from abupy import AbuUmpMainDeg, AbuUmpMainJump, AbuUmpMainPrice, AbuUmpMainWave, feature, AbuFeatureDegExtend\n",
    "from abupy import AbuUmpEdgeDeg, AbuUmpEdgePrice, AbuUmpEdgeWave, AbuUmpEdgeFull, AbuUmpEdgeMul, AbuUmpEegeDegExtend\n",
    "from abupy import AbuUmpMainDegExtend, ump\n",
    "# 关闭沙盒数据\n",
    "abupy.env.disable_example_env_ipython()"
   ]
  },
  {
   "cell_type": "markdown",
   "metadata": {},
   "source": [
    "所有数据已存放在百度云盘上，后面的章节使用的数据都是本节更新的数据，建议直接从云盘下载入库完毕的数据库，不需要从各个数据源再一个一个的下载数据进行入库，百度云地址如下：\n",
    "\n",
    "[csv格式美股，A股，港股，币类，期货6年日k数据](https://pan.baidu.com/s/1geNZgqf) 密码: gvtr\n",
    "\n",
    "下面的数据存贮格式为hdf5数据，由于hdf5文件解压后非常大，还需要区分python版本，所以如果没有足够的存贮空间\n",
    "特别是python2下，建议使用csv格式的缓存文件：\n",
    "\n",
    "[mac系统python3 美股，A股，港股，币类，期货6年日k数据](https://pan.baidu.com/s/1o8sldNk) 密码: ecyp\n",
    "\n",
    "[mac系统python2 A股6年日k数据: ](https://pan.baidu.com/s/1bptn25h) 密码: sid8\n",
    "\n",
    "[windows python3 美股，A股，港股，币类，期货6年日k数据](https://pan.baidu.com/s/1bzeVHO) 密码: 3cwe\n",
    "\n",
    "[windows python2 A股6年日k数据: ](https://pan.baidu.com/s/1skZOe7N) 密码: 78mb\n",
    "\n",
    "下载完毕上述数据后，hdf5解压得到df_kl.h5文件，csv解压得到csv文件夹，解压后放到下面路径下即可"
   ]
  },
  {
   "cell_type": "code",
   "execution_count": 16,
   "metadata": {
    "collapsed": true
   },
   "outputs": [],
   "source": [
    "if abupy.env.g_is_mac_os:\n",
    "    !open $abupy.env.g_project_data_dir\n",
    "else:\n",
    "    !echo $abupy.env.g_project_data_dir"
   ]
  },
  {
   "cell_type": "markdown",
   "metadata": {},
   "source": [
    "如果不想通过直接下载数据文件的方式，也可运行下面的cell点击按钮后进行A股数据全市场更新，如果运行过就不要重复运行了："
   ]
  },
  {
   "cell_type": "code",
   "execution_count": 17,
   "metadata": {
    "collapsed": true
   },
   "outputs": [
    {
     "data": {
      "application/vnd.jupyter.widget-view+json": {
       "model_id": "9e6eab479ed94067bd7a4c9ed3cdf6c0",
       "version_major": 2,
       "version_minor": 0
      },
      "text/plain": [
       "interactive(children=(Button(description='Run Interact', style=ButtonStyle()), Output()), _dom_classes=('widge…"
      ]
     },
     "metadata": {},
     "output_type": "display_data"
    }
   ],
   "source": [
    "def bd_cn():\n",
    "    abupy.env.g_market_source = EMarketSourceType.E_MARKET_SOURCE_tx\n",
    "    abupy.env.g_data_cache_type = EDataCacheType.E_DATA_CACHE_CSV\n",
    "    abu.run_kl_update(start='2011-08-08', end='2017-08-08', market=EMarketTargetType.E_MARKET_TARGET_CN, n_jobs=32)\n",
    "\n",
    "import ipywidgets\n",
    "# 避免使用notebook运行run all时运行不想执行的代码\n",
    "_ = ipywidgets.interact_manual(bd_cn)"
   ]
  },
  {
   "cell_type": "markdown",
   "metadata": {},
   "source": [
    "买入因子，卖出因子等依然使用相同的设置，如下所示："
   ]
  },
  {
   "cell_type": "code",
   "execution_count": 18,
   "metadata": {
    "collapsed": true
   },
   "outputs": [],
   "source": [
    "# 初始化资金500万\n",
    "read_cash = 5000000\n",
    "\n",
    "# 买入因子依然延用向上突破因子\n",
    "buy_factors = [{'xd': 60, 'class': AbuFactorBuyBreak},\n",
    "               {'xd': 42, 'class': AbuFactorBuyBreak}]\n",
    "\n",
    "# 卖出因子继续使用上一节使用的因子\n",
    "sell_factors = [\n",
    "    {'stop_loss_n': 1.0, 'stop_win_n': 3.0,\n",
    "     'class': AbuFactorAtrNStop},\n",
    "    {'class': AbuFactorPreAtrNStop, 'pre_atr_n': 1.5},\n",
    "    {'class': AbuFactorCloseAtrNStop, 'close_atr_n': 1.5}\n",
    "]\n",
    "abupy.env.g_market_target = EMarketTargetType.E_MARKET_TARGET_CN\n",
    "abupy.env.g_data_fetch_mode = EMarketDataFetchMode.E_DATA_FETCH_FORCE_LOCAL"
   ]
  },
  {
   "cell_type": "markdown",
   "metadata": {},
   "source": [
    "### 1. A股交易训练集回测\n",
    "\n",
    "下面将回测市场设置为A股市场："
   ]
  },
  {
   "cell_type": "code",
   "execution_count": 19,
   "metadata": {
    "collapsed": true
   },
   "outputs": [],
   "source": [
    "abupy.env.g_market_target = EMarketTargetType.E_MARKET_TARGET_CN"
   ]
  },
  {
   "cell_type": "markdown",
   "metadata": {},
   "source": [
    "将数据读取模式设置为本地数据模式，即进行全市场回测时最合适的模式，运行效率高，且分类数据更新和交易回测。"
   ]
  },
  {
   "cell_type": "code",
   "execution_count": 20,
   "metadata": {
    "collapsed": true
   },
   "outputs": [],
   "source": [
    "abupy.env.g_data_fetch_mode = EMarketDataFetchMode.E_DATA_FETCH_FORCE_LOCAL"
   ]
  },
  {
   "cell_type": "markdown",
   "metadata": {},
   "source": [
    "下面根据下载的数据缓存类型设置缓存类型，如果下载解压的是csv需要勾选use_csv，如果是hdf5不需要勾选："
   ]
  },
  {
   "cell_type": "code",
   "execution_count": 21,
   "metadata": {},
   "outputs": [
    {
     "data": {
      "application/vnd.jupyter.widget-view+json": {
       "model_id": "4805ac612b3949f3b0494683089f544d",
       "version_major": 2,
       "version_minor": 0
      },
      "text/plain": [
       "interactive(children=(Checkbox(value=True, description='use_csv'), Output()), _dom_classes=('widget-interact',…"
      ]
     },
     "metadata": {},
     "output_type": "display_data"
    }
   ],
   "source": [
    "def select_store_cache(use_csv):\n",
    "    if use_csv:\n",
    "        abupy.env.g_data_cache_type = EDataCacheType.E_DATA_CACHE_CSV\n",
    "    else:\n",
    "        abupy.env.g_data_cache_type = EDataCacheType.E_DATA_CACHE_HDF5\n",
    "    print(abupy.env.g_data_cache_type)\n",
    "        \n",
    "use_csv = ipywidgets.Checkbox(True)\n",
    "_ = ipywidgets.interact(select_store_cache, use_csv=use_csv)"
   ]
  },
  {
   "cell_type": "markdown",
   "metadata": {},
   "source": [
    "下面通过env中的设置将回测中的symbols切分为回测训练集与回测测试集，且打开回测生成买入时刻特征开关：\n",
    "\n",
    "详情请查询ABuMarket模块"
   ]
  },
  {
   "cell_type": "code",
   "execution_count": 22,
   "metadata": {
    "collapsed": true
   },
   "outputs": [],
   "source": [
    "# 回测生成买入时刻特征\n",
    "abupy.env.g_enable_ml_feature = True\n",
    "# 回测开始时将symbols切割分为训练集数据和测试集两份，使用训练集进行回测\n",
    "abupy.env.g_enable_train_test_split = True"
   ]
  },
  {
   "cell_type": "markdown",
   "metadata": {},
   "source": [
    "上面切割训练集，测试集使用的切割比例参数默认为10，即切割为10份，9份做为训练，1份做为测试，也可自定义切割比例，在之后的章节示例"
   ]
  },
  {
   "cell_type": "markdown",
   "metadata": {},
   "source": [
    "资金管理依然使用默认atr，每笔交易的买入基数资金设置为万分之30，这个值如果设置太大，比如初始默认的0.1的话，将会导致太多的股票由于资金不足无法买入，丧失全市场回测的意义，如果太小的话又会导致资金利用率下降，导致最终收益下降：\n",
    "\n",
    "更多资金管理请阅读相关源代码或《量化交易之路》中相关内容"
   ]
  },
  {
   "cell_type": "code",
   "execution_count": 23,
   "metadata": {
    "collapsed": true
   },
   "outputs": [],
   "source": [
    "# 每笔交易的买入基数资金设置为万分之30\n",
    "abupy.beta.atr.g_atr_pos_base = 0.003"
   ]
  },
  {
   "cell_type": "markdown",
   "metadata": {},
   "source": [
    "下面添加‘第18节 自定义裁判决策交易‘中示例编写的10，30，50，90，120日走势拟合角度特征AbuFeatureDegExtend，做为回测时的新的视角来录制比赛（记录回测特征）"
   ]
  },
  {
   "cell_type": "code",
   "execution_count": 24,
   "metadata": {
    "collapsed": true
   },
   "outputs": [],
   "source": [
    "feature.clear_user_feature()\n",
    "feature.append_user_feature(AbuFeatureDegExtend)"
   ]
  },
  {
   "cell_type": "markdown",
   "metadata": {},
   "source": [
    "在上面run_kl_update中更新了从2011-08-08至2017-08-08，由于在买入时刻生成特征，所以要保留一年的数据做为特征数据回测时段，所以下面的回测start使用2012-08-08至2017-08-08，即向后推了一年做回测：\n",
    "\n",
    "下面开始回测，第一次运行select：run loop back，然后点击run select，如果已经回测过可select：load train data直接从缓存数据读取："
   ]
  },
  {
   "cell_type": "code",
   "execution_count": 25,
   "metadata": {
    "collapsed": true
   },
   "outputs": [
    {
     "data": {
      "application/vnd.jupyter.widget-view+json": {
       "model_id": "62a15371bb0141c9866af39432c1a126",
       "version_major": 2,
       "version_minor": 0
      },
      "text/plain": [
       "interactive(children=(Dropdown(description='select', options=('run loop back', 'load train data'), value='run …"
      ]
     },
     "metadata": {},
     "output_type": "display_data"
    }
   ],
   "source": [
    "abu_result_tuple = None\n",
    "def run_loop_back():\n",
    "    global abu_result_tuple\n",
    "    abu_result_tuple, _ = abu.run_loop_back(read_cash,\n",
    "                                            buy_factors,\n",
    "                                            sell_factors,\n",
    "                                            choice_symbols=None,\n",
    "                                            start='2012-08-08', end='2017-08-08')\n",
    "    # 把运行的结果保存在本地，以便之后分析回测使用，保存回测结果数据代码如下所示\n",
    "    abu.store_abu_result_tuple(abu_result_tuple, n_folds=5, store_type=EStoreAbu.E_STORE_CUSTOM_NAME, \n",
    "                               custom_name='train_cn')\n",
    "    ABuProgress.clear_output()\n",
    "\n",
    "def run_load_train():\n",
    "    global abu_result_tuple\n",
    "    abu_result_tuple = abu.load_abu_result_tuple(n_folds=5, store_type=EStoreAbu.E_STORE_CUSTOM_NAME, \n",
    "                                                 custom_name='train_cn')\n",
    "\n",
    "def select(select):\n",
    "    if select == 'run loop back':\n",
    "        run_loop_back()\n",
    "    else:\n",
    "        run_load_train()\n",
    "\n",
    "_ = ipywidgets.interact_manual(select, select=['run loop back', 'load train data'])"
   ]
  },
  {
   "cell_type": "code",
   "execution_count": 26,
   "metadata": {},
   "outputs": [
    {
     "ename": "TypeError",
     "evalue": "abupy.MetricsBu.ABuMetricsBase.AbuMetricsBase.show_general() argument after * must be an iterable, not NoneType",
     "output_type": "error",
     "traceback": [
      "\u001b[0;31m---------------------------------------------------------------------------\u001b[0m",
      "\u001b[0;31mTypeError\u001b[0m                                 Traceback (most recent call last)",
      "\u001b[1;32m/Volumes/D/abu-master 2/abupy_lecture/20-A股全市场回测(ABU量化使用文档).ipynb Cell 24\u001b[0m in \u001b[0;36m<cell line: 1>\u001b[0;34m()\u001b[0m\n\u001b[0;32m----> <a href='vscode-notebook-cell:/Volumes/D/abu-master%202/abupy_lecture/20-A%E8%82%A1%E5%85%A8%E5%B8%82%E5%9C%BA%E5%9B%9E%E6%B5%8B%28ABU%E9%87%8F%E5%8C%96%E4%BD%BF%E7%94%A8%E6%96%87%E6%A1%A3%29.ipynb#ch0000023?line=0'>1</a>\u001b[0m AbuMetricsBase\u001b[39m.\u001b[39;49mshow_general(\u001b[39m*\u001b[39;49mabu_result_tuple, only_show_returns\u001b[39m=\u001b[39;49m\u001b[39mTrue\u001b[39;49;00m)\n",
      "\u001b[0;31mTypeError\u001b[0m: abupy.MetricsBu.ABuMetricsBase.AbuMetricsBase.show_general() argument after * must be an iterable, not NoneType"
     ]
    }
   ],
   "source": [
    "AbuMetricsBase.show_general(*abu_result_tuple, only_show_returns=True)"
   ]
  },
  {
   "cell_type": "markdown",
   "metadata": {},
   "source": [
    "### 2. A股交易测试集回测\n",
    "\n",
    "下面通过env中设置使用刚才切分的测试集美股symbol，它使用pickle读取之前已经切割好的本地化测试集股票代码序列："
   ]
  },
  {
   "cell_type": "code",
   "execution_count": null,
   "metadata": {
    "collapsed": true
   },
   "outputs": [],
   "source": [
    "# 测试集回测时依然生成买入时刻特征\n",
    "abupy.env.g_enable_ml_feature = True\n",
    "# 回测时不重新切割训练集数据和测试集\n",
    "abupy.env.g_enable_train_test_split = False\n",
    "# 回测时使用切割好的测试数据\n",
    "abupy.env.g_enable_last_split_test = True\n",
    "\n",
    "\n",
    "# 测试集依然使用10，30，50，90，120日走势拟合角度特征AbuFeatureDegExtend，做为回测时的新的视角来录制比赛（记录回测特征）\n",
    "feature.clear_user_feature()\n",
    "feature.append_user_feature(AbuFeatureDegExtend)"
   ]
  },
  {
   "cell_type": "markdown",
   "metadata": {},
   "source": [
    "提高g_atr_pos_base为0.025（因为默认切割训练集与测试集数据比例为9:1，所以提高g_atr_pos_base为之前的大概8-10倍都可以："
   ]
  },
  {
   "cell_type": "code",
   "execution_count": null,
   "metadata": {
    "collapsed": true
   },
   "outputs": [],
   "source": [
    "abupy.beta.atr.g_atr_pos_base = 0.025"
   ]
  },
  {
   "cell_type": "markdown",
   "metadata": {},
   "source": [
    "下面开始测试集回测，同训练集第一次运行select：run loop back，然后点击run select，如果已经回测过可select：load train data直接从缓存数据读取："
   ]
  },
  {
   "cell_type": "code",
   "execution_count": null,
   "metadata": {},
   "outputs": [],
   "source": [
    "abu_result_tuple_test = None\n",
    "def run_loop_back_test():\n",
    "    global abu_result_tuple_test\n",
    "    abu_result_tuple_test, _ = abu.run_loop_back(read_cash,\n",
    "                                                 buy_factors,\n",
    "                                                 sell_factors,\n",
    "                                                 choice_symbols=None,\n",
    "                                                 start='2012-08-08', end='2017-08-08')\n",
    "    # 把运行的结果保存在本地，以便之后分析回测使用，保存回测结果数据代码如下所示\n",
    "    abu.store_abu_result_tuple(abu_result_tuple_test, n_folds=5, store_type=EStoreAbu.E_STORE_CUSTOM_NAME, \n",
    "                               custom_name='test_cn')\n",
    "    ABuProgress.clear_output()\n",
    "\n",
    "def run_load_test():\n",
    "    global abu_result_tuple_test\n",
    "    abu_result_tuple_test = abu.load_abu_result_tuple(n_folds=5, store_type=EStoreAbu.E_STORE_CUSTOM_NAME, \n",
    "                                                 custom_name='test_cn')\n",
    "\n",
    "def select_test(select):\n",
    "    if select == 'run loop back':\n",
    "        run_loop_back_test()\n",
    "    else:\n",
    "        run_load_test()\n",
    "\n",
    "_ = ipywidgets.interact_manual(select_test, select=['run loop back', 'load test data'])"
   ]
  },
  {
   "cell_type": "code",
   "execution_count": null,
   "metadata": {},
   "outputs": [],
   "source": [
    "AbuMetricsBase.show_general(*abu_result_tuple_test, only_show_returns=True)"
   ]
  },
  {
   "cell_type": "markdown",
   "metadata": {},
   "source": [
    "小结：本节所有操作都非常耗时，特别是在cpu不够快的电脑上，建议睡觉的时候运行哈，下一节将使用本节回测好的数据进行ump训练优化示例。"
   ]
  }
 ],
 "metadata": {
  "kernelspec": {
   "display_name": "Python 3.9.12 ('base')",
   "language": "python",
   "name": "python3"
  },
  "language_info": {
   "codemirror_mode": {
    "name": "ipython",
    "version": 3
   },
   "file_extension": ".py",
   "mimetype": "text/x-python",
   "name": "python",
   "nbconvert_exporter": "python",
   "pygments_lexer": "ipython3",
   "version": "3.9.12"
  },
  "vscode": {
   "interpreter": {
    "hash": "b06a28e95f9b3849a75d3862e282abec0016eaf9008ce28739929c9dc1128c13"
   }
  }
 },
 "nbformat": 4,
 "nbformat_minor": 2
}
