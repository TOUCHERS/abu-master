{
 "cells": [
  {
   "cell_type": "code",
   "execution_count": 1,
   "metadata": {},
   "outputs": [
    {
     "name": "stderr",
     "output_type": "stream",
     "text": [
      "enable example env will only read RomDataBu/csv\n"
     ]
    }
   ],
   "source": [
    "# 基础库导入\n",
    "\n",
    "\n",
    "\n",
    "\n",
    "import warnings\n",
    "warnings.filterwarnings('ignore')\n",
    "warnings.simplefilter('ignore')\n",
    "\n",
    "import numpy as np\n",
    "import pandas as pd\n",
    "import matplotlib.pyplot as plt\n",
    "%matplotlib inline\n",
    "\n",
    "import os\n",
    "import sys\n",
    "# 使用insert 0即只使用github，避免交叉使用了pip安装的abupy，导致的版本不一致问题\n",
    "sys.path.insert(0, os.path.abspath('../'))\n",
    "import abupy\n",
    "\n",
    "# 使用沙盒数据，目的是和书中一样的数据环境\n",
    "abupy.env.enable_example_env_ipython()"
   ]
  },
  {
   "cell_type": "code",
   "execution_count": 2,
   "metadata": {},
   "outputs": [],
   "source": [
    "from abupy import AbuFuturesCn, AbuFuturesGB, ABuMarketDrawing, ABuSymbolPd, ABuCorrcoef, tl\n",
    "from abupy import ECoreCorrType, EMarketDataSplitMode, AbuBenchmark, nd, ABuScalerUtil, ABuProgress\n",
    "from abupy import pd_resample, AbuFactorBuyXD, BuyCallMixin, EMarketTargetType, abu, AbuFactorBuyBreak\n",
    "from abupy import AbuFactorAtrNStop, AbuFactorPreAtrNStop, AbuFactorCloseAtrNStop, AbuMetricsBase"
   ]
  },
  {
   "cell_type": "markdown",
   "metadata": {},
   "source": [
    "算法交易之父托马斯•彼得菲最成功的一段经历是利用当时最快的计算机，租赁独享电话线以保证数据传输畅通无阻，甚至超越时代定制平叛电脑，使用统计套利在不同市场进行对冲策略。\n",
    "\n",
    "这是最有保证的一段量化交易历史，在当时的交易环境下运用高科技在市场中确实可以获利。\n",
    "\n",
    "但是这个策略放到今天肯定不适用，因为科技在不停的进步，技术的不断透明化，信息社会的高速发展，自动化交易占了美国股票市场60%以上的成交量。在美国很多高频交易为了通信速度能有几毫秒的提升，不惜在太平洋底打洞自己搭建通信网络，也有专门提供暗光纤的独享网络商，他们网络的一年租赁费用就高达几千万美元。在这种环境下，个人量化投资者是不是一点机会都没有呢？\n",
    "\n",
    "### 1. 伦敦期货市场和国内期货市场中的金属期货\n",
    "\n",
    "本节示例适合个人量化交易者的低频统计套利策略，目标市场为伦敦期货市场和国内期货市场中的金属期货。\n",
    "\n",
    "如下先获取伦敦的金属期货symbol数据："
   ]
  },
  {
   "cell_type": "code",
   "execution_count": 3,
   "metadata": {},
   "outputs": [
    {
     "data": {
      "text/html": [
       "<div>\n",
       "<style scoped>\n",
       "    .dataframe tbody tr th:only-of-type {\n",
       "        vertical-align: middle;\n",
       "    }\n",
       "\n",
       "    .dataframe tbody tr th {\n",
       "        vertical-align: top;\n",
       "    }\n",
       "\n",
       "    .dataframe thead th {\n",
       "        text-align: right;\n",
       "    }\n",
       "</style>\n",
       "<table border=\"1\" class=\"dataframe\">\n",
       "  <thead>\n",
       "    <tr style=\"text-align: right;\">\n",
       "      <th></th>\n",
       "      <th>symbol</th>\n",
       "      <th>product</th>\n",
       "      <th>min_deposit</th>\n",
       "      <th>min_unit</th>\n",
       "      <th>exchange</th>\n",
       "    </tr>\n",
       "  </thead>\n",
       "  <tbody>\n",
       "    <tr>\n",
       "      <th>1</th>\n",
       "      <td>PBD</td>\n",
       "      <td>伦敦铅</td>\n",
       "      <td>0.10</td>\n",
       "      <td>25</td>\n",
       "      <td>LME</td>\n",
       "    </tr>\n",
       "    <tr>\n",
       "      <th>3</th>\n",
       "      <td>ZSD</td>\n",
       "      <td>伦敦锌</td>\n",
       "      <td>0.10</td>\n",
       "      <td>25</td>\n",
       "      <td>LME</td>\n",
       "    </tr>\n",
       "    <tr>\n",
       "      <th>4</th>\n",
       "      <td>AHD</td>\n",
       "      <td>伦敦铝</td>\n",
       "      <td>0.08</td>\n",
       "      <td>25</td>\n",
       "      <td>LME</td>\n",
       "    </tr>\n",
       "    <tr>\n",
       "      <th>5</th>\n",
       "      <td>CAD</td>\n",
       "      <td>伦敦铜</td>\n",
       "      <td>0.08</td>\n",
       "      <td>25</td>\n",
       "      <td>LME</td>\n",
       "    </tr>\n",
       "    <tr>\n",
       "      <th>6</th>\n",
       "      <td>XAU</td>\n",
       "      <td>伦敦金</td>\n",
       "      <td>0.10</td>\n",
       "      <td>1</td>\n",
       "      <td>LME</td>\n",
       "    </tr>\n",
       "    <tr>\n",
       "      <th>7</th>\n",
       "      <td>XAG</td>\n",
       "      <td>伦敦银</td>\n",
       "      <td>0.10</td>\n",
       "      <td>100</td>\n",
       "      <td>LME</td>\n",
       "    </tr>\n",
       "  </tbody>\n",
       "</table>\n",
       "</div>"
      ],
      "text/plain": [
       "  symbol product  min_deposit  min_unit exchange\n",
       "1    PBD     伦敦铅         0.10        25      LME\n",
       "3    ZSD     伦敦锌         0.10        25      LME\n",
       "4    AHD     伦敦铝         0.08        25      LME\n",
       "5    CAD     伦敦铜         0.08        25      LME\n",
       "6    XAU     伦敦金         0.10         1      LME\n",
       "7    XAG     伦敦银         0.10       100      LME"
      ]
     },
     "execution_count": 3,
     "metadata": {},
     "output_type": "execute_result"
    }
   ],
   "source": [
    "gb = AbuFuturesGB()\n",
    "metal_gb = gb.futures_gb_df[\n",
    "                  (gb.futures_gb_df['product'] == '伦敦铅') |\n",
    "                  (gb.futures_gb_df['product'] == '伦敦锌') |\n",
    "                  (gb.futures_gb_df['product'] == '伦敦铝') |\n",
    "                  (gb.futures_gb_df['product'] == '伦敦铜') |\n",
    "                  (gb.futures_gb_df['product'] == '伦敦金') |\n",
    "                  (gb.futures_gb_df['product'] == '伦敦银') \n",
    "                 ]\n",
    "metal_gb"
   ]
  },
  {
   "cell_type": "markdown",
   "metadata": {},
   "source": [
    "接下来获取国内的金属期货symbol数据："
   ]
  },
  {
   "cell_type": "code",
   "execution_count": 4,
   "metadata": {},
   "outputs": [
    {
     "data": {
      "text/html": [
       "<div>\n",
       "<style scoped>\n",
       "    .dataframe tbody tr th:only-of-type {\n",
       "        vertical-align: middle;\n",
       "    }\n",
       "\n",
       "    .dataframe tbody tr th {\n",
       "        vertical-align: top;\n",
       "    }\n",
       "\n",
       "    .dataframe thead th {\n",
       "        text-align: right;\n",
       "    }\n",
       "</style>\n",
       "<table border=\"1\" class=\"dataframe\">\n",
       "  <thead>\n",
       "    <tr style=\"text-align: right;\">\n",
       "      <th></th>\n",
       "      <th>symbol</th>\n",
       "      <th>product</th>\n",
       "      <th>min_deposit</th>\n",
       "      <th>min_unit</th>\n",
       "      <th>commission</th>\n",
       "      <th>exchange</th>\n",
       "    </tr>\n",
       "  </thead>\n",
       "  <tbody>\n",
       "    <tr>\n",
       "      <th>32</th>\n",
       "      <td>AL0</td>\n",
       "      <td>沪铝</td>\n",
       "      <td>0.09</td>\n",
       "      <td>5</td>\n",
       "      <td>3.0</td>\n",
       "      <td>SHFE</td>\n",
       "    </tr>\n",
       "    <tr>\n",
       "      <th>34</th>\n",
       "      <td>ZN0</td>\n",
       "      <td>沪锌</td>\n",
       "      <td>0.09</td>\n",
       "      <td>5</td>\n",
       "      <td>3.0</td>\n",
       "      <td>SHFE</td>\n",
       "    </tr>\n",
       "    <tr>\n",
       "      <th>35</th>\n",
       "      <td>CU0</td>\n",
       "      <td>沪铜</td>\n",
       "      <td>0.09</td>\n",
       "      <td>5</td>\n",
       "      <td>8.0</td>\n",
       "      <td>SHFE</td>\n",
       "    </tr>\n",
       "    <tr>\n",
       "      <th>36</th>\n",
       "      <td>AU0</td>\n",
       "      <td>黄金</td>\n",
       "      <td>0.06</td>\n",
       "      <td>1000</td>\n",
       "      <td>10.0</td>\n",
       "      <td>SHFE</td>\n",
       "    </tr>\n",
       "    <tr>\n",
       "      <th>39</th>\n",
       "      <td>PB0</td>\n",
       "      <td>沪铅</td>\n",
       "      <td>0.09</td>\n",
       "      <td>25</td>\n",
       "      <td>8.0</td>\n",
       "      <td>SHFE</td>\n",
       "    </tr>\n",
       "    <tr>\n",
       "      <th>40</th>\n",
       "      <td>AG0</td>\n",
       "      <td>白银</td>\n",
       "      <td>0.08</td>\n",
       "      <td>15</td>\n",
       "      <td>10.0</td>\n",
       "      <td>SHFE</td>\n",
       "    </tr>\n",
       "  </tbody>\n",
       "</table>\n",
       "</div>"
      ],
      "text/plain": [
       "   symbol product  min_deposit  min_unit  commission exchange\n",
       "32    AL0      沪铝         0.09         5         3.0     SHFE\n",
       "34    ZN0      沪锌         0.09         5         3.0     SHFE\n",
       "35    CU0      沪铜         0.09         5         8.0     SHFE\n",
       "36    AU0      黄金         0.06      1000        10.0     SHFE\n",
       "39    PB0      沪铅         0.09        25         8.0     SHFE\n",
       "40    AG0      白银         0.08        15        10.0     SHFE"
      ]
     },
     "execution_count": 4,
     "metadata": {},
     "output_type": "execute_result"
    }
   ],
   "source": [
    "cn = AbuFuturesCn()\n",
    "metal_cn = cn.futures_cn_df[\n",
    "                  (cn.futures_cn_df['product'] == '沪铅') |\n",
    "                  (cn.futures_cn_df['product'] == '沪锌') |\n",
    "                  (cn.futures_cn_df['product'] == '沪铝') |\n",
    "                  (cn.futures_cn_df['product'] == '沪铜') |\n",
    "                  (cn.futures_cn_df['product'] == '黄金') |\n",
    "                  (cn.futures_cn_df['product'] == '白银') \n",
    "                  ]\n",
    "metal_cn"
   ]
  },
  {
   "cell_type": "markdown",
   "metadata": {},
   "source": [
    "如下分别将两两金属期货进行跨市场配对，首先可视化一下走势，可以看到每一个配对期货市场的走势都非常跟随："
   ]
  },
  {
   "cell_type": "code",
   "execution_count": 5,
   "metadata": {},
   "outputs": [
    {
     "data": {
      "application/vnd.jupyter.widget-view+json": {
       "model_id": "b8027356288e4db3ab1da4acc4f86d86",
       "version_major": 2,
       "version_minor": 0
      },
      "text/plain": [
       "interactive(children=(Dropdown(description='pairs', options=('CADvsCU0', 'XAUvsAU0', 'ZN0vsSND', 'AHDvsAL0', '…"
      ]
     },
     "metadata": {},
     "output_type": "display_data"
    }
   ],
   "source": [
    "from ipywidgets import interact\n",
    "\n",
    "def do_plot_pair_metal(mt_cn, mt_gb):\n",
    "    gb_data = ABuSymbolPd.make_kl_df(mt_gb, start='2011-07-28', end='2017-07-26')\n",
    "    cn_data = ABuSymbolPd.make_kl_df(mt_cn, start='2011-07-28', end='2017-07-26')\n",
    "    ABuMarketDrawing.plot_simple_two_stock({mt_gb: gb_data, mt_cn: cn_data})\n",
    "def plot_pair_metal(pairs):\n",
    "    pair = pairs.split('vs')\n",
    "    do_plot_pair_metal(pair[0], pair[1])\n",
    "    \n",
    "pairs = ['CADvsCU0', 'XAUvsAU0', 'ZN0vsSND', 'AHDvsAL0', \n",
    "               'XAGvsAG0', 'PBDvsPB0']\n",
    "\n",
    "_ = interact(plot_pair_metal, pairs=pairs)"
   ]
  },
  {
   "cell_type": "markdown",
   "metadata": {},
   "source": [
    "如果做跨市场高频交易，需要非常好的设备，盯着盘口的数据，快速进行交易决策，且对资金量也有要求，本节的示例为适合个人量化交易者的跨市场低频统计套利示例。\n",
    "\n",
    "注意观察上面的每一对趋势曲线，如CAD vs CU0，你可以发现CU0对趋势敏感的速度要明显快于CAD, 而且是非高频的快，即上面的蓝线在趋势下跌时先下跌，趋势上涨时先上涨，那么就可以认为CAD在非高频下跟随CU0，具有低频统计套利机会。\n",
    "\n",
    "### 2. 趋势变化的敏感速度\n",
    "\n",
    "我们不可能真的用肉眼去一个一个观察，而且也无法量化具体趋势敏感的速度，也即无法确定是否真实存在低频统计套利机会。\n",
    "\n",
    "对于量化交易，优势是通过计算机强大的运算能力，在市场广度的优势下获取概率优势，进行交易，下面示例如何使用abupy中的api计算趋势变化的敏感速度，如下所示：\n",
    "\n",
    "备注: 具体计算计算趋势速度请阅读tl模块中calc_pair_speed方法"
   ]
  },
  {
   "cell_type": "code",
   "execution_count": 6,
   "metadata": {},
   "outputs": [
    {
     "ename": "KeyError",
     "evalue": "\"[Timestamp('2011-09-12 00:00:00'), Timestamp('2011-10-03 00:00:00'), Timestamp('2011-10-04 00:00:00'), Timestamp('2011-10-05 00:00:00'), Timestamp('2011-10-06 00:00:00'), Timestamp('2011-10-07 00:00:00'), Timestamp('2011-12-02 00:00:00'), Timestamp('2012-01-03 00:00:00'), Timestamp('2012-01-23 00:00:00'), Timestamp('2012-01-24 00:00:00'), Timestamp('2012-01-25 00:00:00'), Timestamp('2012-01-26 00:00:00'), Timestamp('2012-01-27 00:00:00'), Timestamp('2012-04-02 00:00:00'), Timestamp('2012-04-03 00:00:00'), Timestamp('2012-04-04 00:00:00'), Timestamp('2012-04-30 00:00:00'), Timestamp('2012-05-01 00:00:00'), Timestamp('2012-06-22 00:00:00'), Timestamp('2012-10-01 00:00:00'), Timestamp('2012-10-02 00:00:00'), Timestamp('2012-10-03 00:00:00'), Timestamp('2012-10-04 00:00:00'), Timestamp('2012-10-05 00:00:00'), Timestamp('2013-01-02 00:00:00'), Timestamp('2013-01-03 00:00:00'), Timestamp('2013-02-11 00:00:00'), Timestamp('2013-02-12 00:00:00'), Timestamp('2013-02-13 00:00:00'), Timestamp('2013-02-14 00:00:00'), Timestamp('2013-02-15 00:00:00'), Timestamp('2013-04-04 00:00:00'), Timestamp('2013-04-05 00:00:00'), Timestamp('2013-04-29 00:00:00'), Timestamp('2013-04-30 00:00:00'), Timestamp('2013-05-01 00:00:00'), Timestamp('2013-06-10 00:00:00'), Timestamp('2013-06-11 00:00:00'), Timestamp('2013-06-12 00:00:00'), Timestamp('2013-09-19 00:00:00'), Timestamp('2013-09-20 00:00:00'), Timestamp('2013-10-01 00:00:00'), Timestamp('2013-10-02 00:00:00'), Timestamp('2013-10-03 00:00:00'), Timestamp('2013-10-04 00:00:00'), Timestamp('2013-10-07 00:00:00'), Timestamp('2013-11-20 00:00:00'), Timestamp('2014-01-31 00:00:00'), Timestamp('2014-02-03 00:00:00'), Timestamp('2014-02-04 00:00:00'), Timestamp('2014-02-05 00:00:00'), Timestamp('2014-02-06 00:00:00'), Timestamp('2014-04-07 00:00:00'), Timestamp('2014-05-02 00:00:00'), Timestamp('2014-06-02 00:00:00'), Timestamp('2014-09-08 00:00:00'), Timestamp('2014-10-01 00:00:00'), Timestamp('2014-10-02 00:00:00'), Timestamp('2014-10-03 00:00:00'), Timestamp('2014-10-06 00:00:00'), Timestamp('2014-10-07 00:00:00'), Timestamp('2015-01-02 00:00:00'), Timestamp('2015-02-18 00:00:00'), Timestamp('2015-02-19 00:00:00'), Timestamp('2015-02-20 00:00:00'), Timestamp('2015-02-23 00:00:00'), Timestamp('2015-02-24 00:00:00'), Timestamp('2015-05-01 00:00:00'), Timestamp('2015-06-22 00:00:00'), Timestamp('2015-07-02 00:00:00'), Timestamp('2015-09-04 00:00:00'), Timestamp('2015-10-02 00:00:00'), Timestamp('2015-10-05 00:00:00'), Timestamp('2015-10-06 00:00:00'), Timestamp('2015-10-07 00:00:00'), Timestamp('2016-02-08 00:00:00'), Timestamp('2016-02-09 00:00:00'), Timestamp('2016-02-10 00:00:00'), Timestamp('2016-02-11 00:00:00'), Timestamp('2016-02-12 00:00:00'), Timestamp('2016-04-04 00:00:00'), Timestamp('2016-05-02 00:00:00'), Timestamp('2016-06-09 00:00:00'), Timestamp('2016-06-10 00:00:00')] not in index\"",
     "output_type": "error",
     "traceback": [
      "\u001b[0;31m---------------------------------------------------------------------------\u001b[0m",
      "\u001b[0;31mKeyError\u001b[0m                                  Traceback (most recent call last)",
      "Input \u001b[0;32mIn [6]\u001b[0m, in \u001b[0;36m<cell line: 1>\u001b[0;34m()\u001b[0m\n\u001b[0;32m----> 1\u001b[0m speed_pair \u001b[38;5;241m=\u001b[39m \u001b[43mtl\u001b[49m\u001b[38;5;241;43m.\u001b[39;49m\u001b[43mexecute\u001b[49m\u001b[38;5;241;43m.\u001b[39;49m\u001b[43mcalc_pair_speed\u001b[49m\u001b[43m(\u001b[49m\u001b[38;5;124;43m'\u001b[39;49m\u001b[38;5;124;43mCU0\u001b[39;49m\u001b[38;5;124;43m'\u001b[39;49m\u001b[43m,\u001b[49m\u001b[43m \u001b[49m\u001b[38;5;124;43m'\u001b[39;49m\u001b[38;5;124;43mCAD\u001b[39;49m\u001b[38;5;124;43m'\u001b[39;49m\u001b[43m,\u001b[49m\u001b[43m \u001b[49m\n\u001b[1;32m      2\u001b[0m \u001b[43m                                        \u001b[49m\u001b[43mstart\u001b[49m\u001b[38;5;241;43m=\u001b[39;49m\u001b[38;5;124;43m'\u001b[39;49m\u001b[38;5;124;43m2011-07-28\u001b[39;49m\u001b[38;5;124;43m'\u001b[39;49m\u001b[43m,\u001b[49m\u001b[43m \u001b[49m\u001b[43mend\u001b[49m\u001b[38;5;241;43m=\u001b[39;49m\u001b[38;5;124;43m'\u001b[39;49m\u001b[38;5;124;43m2016-07-26\u001b[39;49m\u001b[38;5;124;43m'\u001b[39;49m\u001b[43m,\u001b[49m\u001b[43m \u001b[49m\u001b[43mshow\u001b[49m\u001b[38;5;241;43m=\u001b[39;49m\u001b[38;5;28;43;01mTrue\u001b[39;49;00m\u001b[43m)\u001b[49m\n\u001b[1;32m      3\u001b[0m speed_pair[\u001b[38;5;241m0\u001b[39m], speed_pair[\u001b[38;5;241m1\u001b[39m]\n",
      "File \u001b[0;32m/Volumes/D/abu-master 2/abupy/TLineBu/ABuTLExecute.py:239\u001b[0m, in \u001b[0;36mcalc_pair_speed\u001b[0;34m(symbol, benchmark_symbol, resample, speed_key, start, end, n_folds, show)\u001b[0m\n\u001b[1;32m    237\u001b[0m     \u001b[38;5;28;01mreturn\u001b[39;00m \u001b[38;5;28;01mNone\u001b[39;00m, \u001b[38;5;28;01mNone\u001b[39;00m, \u001b[38;5;28;01mNone\u001b[39;00m\n\u001b[1;32m    238\u001b[0m benchmark_kl \u001b[38;5;241m=\u001b[39m benchmark\u001b[38;5;241m.\u001b[39mkl_pd\n\u001b[0;32m--> 239\u001b[0m kl \u001b[38;5;241m=\u001b[39m \u001b[43mABuSymbolPd\u001b[49m\u001b[38;5;241;43m.\u001b[39;49m\u001b[43mmake_kl_df\u001b[49m\u001b[43m(\u001b[49m\u001b[43msymbol\u001b[49m\u001b[43m,\u001b[49m\u001b[43m \u001b[49m\u001b[43mbenchmark\u001b[49m\u001b[38;5;241;43m=\u001b[39;49m\u001b[43mbenchmark\u001b[49m\u001b[43m,\u001b[49m\n\u001b[1;32m    240\u001b[0m \u001b[43m                            \u001b[49m\u001b[43mdata_mode\u001b[49m\u001b[38;5;241;43m=\u001b[39;49m\u001b[43mEMarketDataSplitMode\u001b[49m\u001b[38;5;241;43m.\u001b[39;49m\u001b[43mE_DATA_SPLIT_UNDO\u001b[49m\u001b[43m)\u001b[49m\n\u001b[1;32m    241\u001b[0m \u001b[38;5;28;01mif\u001b[39;00m kl \u001b[38;5;129;01mis\u001b[39;00m \u001b[38;5;28;01mNone\u001b[39;00m:\n\u001b[1;32m    242\u001b[0m     \u001b[38;5;28;01mreturn\u001b[39;00m \u001b[38;5;28;01mNone\u001b[39;00m, \u001b[38;5;28;01mNone\u001b[39;00m, \u001b[38;5;28;01mNone\u001b[39;00m\n",
      "File \u001b[0;32m/Volumes/D/abu-master 2/abupy/MarketBu/ABuSymbolPd.py:305\u001b[0m, in \u001b[0;36mmake_kl_df\u001b[0;34m(symbol, data_mode, n_folds, start, end, benchmark, show_progress, parallel, parallel_save)\u001b[0m\n\u001b[1;32m    301\u001b[0m     \u001b[38;5;28;01mreturn\u001b[39;00m pd\u001b[38;5;241m.\u001b[39mPanel(panel)\n\u001b[1;32m    303\u001b[0m \u001b[38;5;28;01melif\u001b[39;00m \u001b[38;5;28misinstance\u001b[39m(symbol, Symbol) \u001b[38;5;129;01mor\u001b[39;00m \u001b[38;5;28misinstance\u001b[39m(symbol, six\u001b[38;5;241m.\u001b[39mstring_types):\n\u001b[1;32m    304\u001b[0m     \u001b[38;5;66;03m# 对单个symbol进行数据获取\u001b[39;00m\n\u001b[0;32m--> 305\u001b[0m     df, _ \u001b[38;5;241m=\u001b[39m \u001b[43m_make_kl_df\u001b[49m\u001b[43m(\u001b[49m\u001b[43msymbol\u001b[49m\u001b[43m,\u001b[49m\u001b[43m \u001b[49m\u001b[43mdata_mode\u001b[49m\u001b[38;5;241;43m=\u001b[39;49m\u001b[43mdata_mode\u001b[49m\u001b[43m,\u001b[49m\n\u001b[1;32m    306\u001b[0m \u001b[43m                        \u001b[49m\u001b[43mn_folds\u001b[49m\u001b[38;5;241;43m=\u001b[39;49m\u001b[43mn_folds\u001b[49m\u001b[43m,\u001b[49m\u001b[43m \u001b[49m\u001b[43mstart\u001b[49m\u001b[38;5;241;43m=\u001b[39;49m\u001b[43mstart\u001b[49m\u001b[43m,\u001b[49m\u001b[43m \u001b[49m\u001b[43mend\u001b[49m\u001b[38;5;241;43m=\u001b[39;49m\u001b[43mend\u001b[49m\u001b[43m,\u001b[49m\u001b[43m \u001b[49m\u001b[43mbenchmark\u001b[49m\u001b[38;5;241;43m=\u001b[39;49m\u001b[43mbenchmark\u001b[49m\u001b[43m,\u001b[49m\u001b[43m \u001b[49m\u001b[43msave\u001b[49m\u001b[38;5;241;43m=\u001b[39;49m\u001b[38;5;28;43;01mTrue\u001b[39;49;00m\u001b[43m)\u001b[49m\n\u001b[1;32m    307\u001b[0m     \u001b[38;5;28;01mreturn\u001b[39;00m df\n\u001b[1;32m    308\u001b[0m \u001b[38;5;28;01melse\u001b[39;00m:\n",
      "File \u001b[0;32m/Volumes/D/abu-master 2/abupy/MarketBu/ABuSymbolPd.py:128\u001b[0m, in \u001b[0;36m_make_kl_df\u001b[0;34m(symbol, data_mode, n_folds, start, end, benchmark, save)\u001b[0m\n\u001b[1;32m    125\u001b[0m \u001b[38;5;28;01mif\u001b[39;00m benchmark \u001b[38;5;129;01mis\u001b[39;00m \u001b[38;5;129;01mnot\u001b[39;00m \u001b[38;5;28;01mNone\u001b[39;00m \u001b[38;5;129;01mand\u001b[39;00m df \u001b[38;5;129;01mis\u001b[39;00m \u001b[38;5;129;01mnot\u001b[39;00m \u001b[38;5;28;01mNone\u001b[39;00m:\n\u001b[1;32m    126\u001b[0m     \u001b[38;5;66;03m# 如果有标尺，进行标尺切割，进行标尺切割后也可能变成none\u001b[39;00m\n\u001b[1;32m    127\u001b[0m     temp_symbol \u001b[38;5;241m=\u001b[39m save_kl_key[\u001b[38;5;241m0\u001b[39m]\n\u001b[0;32m--> 128\u001b[0m     df \u001b[38;5;241m=\u001b[39m \u001b[43m_benchmark\u001b[49m\u001b[43m(\u001b[49m\u001b[43mdf\u001b[49m\u001b[43m,\u001b[49m\u001b[43m \u001b[49m\u001b[43mbenchmark\u001b[49m\u001b[43m,\u001b[49m\u001b[43m \u001b[49m\u001b[43mtemp_symbol\u001b[49m\u001b[43m)\u001b[49m\n\u001b[1;32m    130\u001b[0m \u001b[38;5;28;01mif\u001b[39;00m df \u001b[38;5;129;01mis\u001b[39;00m \u001b[38;5;129;01mnot\u001b[39;00m \u001b[38;5;28;01mNone\u001b[39;00m:\n\u001b[1;32m    131\u001b[0m     \u001b[38;5;66;03m# 规避重复交易日数据风险，subset只设置date做为滤除重复\u001b[39;00m\n\u001b[1;32m    132\u001b[0m     df\u001b[38;5;241m.\u001b[39mdrop_duplicates(subset\u001b[38;5;241m=\u001b[39m[\u001b[38;5;124m'\u001b[39m\u001b[38;5;124mdate\u001b[39m\u001b[38;5;124m'\u001b[39m], inplace\u001b[38;5;241m=\u001b[39m\u001b[38;5;28;01mTrue\u001b[39;00m)\n",
      "File \u001b[0;32m/Volumes/D/abu-master 2/abupy/MarketBu/ABuSymbolPd.py:53\u001b[0m, in \u001b[0;36m_benchmark\u001b[0;34m(df, benchmark, symbol)\u001b[0m\n\u001b[1;32m     50\u001b[0m     \u001b[38;5;28;01mreturn\u001b[39;00m \u001b[38;5;28;01mNone\u001b[39;00m\n\u001b[1;32m     52\u001b[0m \u001b[38;5;66;03m# 两个金融时间序列通过loc寻找交集\u001b[39;00m\n\u001b[0;32m---> 53\u001b[0m kl_pd \u001b[38;5;241m=\u001b[39m \u001b[43mdf\u001b[49m\u001b[38;5;241;43m.\u001b[39;49m\u001b[43mloc\u001b[49m\u001b[43m[\u001b[49m\u001b[43mbenchmark\u001b[49m\u001b[38;5;241;43m.\u001b[39;49m\u001b[43mkl_pd\u001b[49m\u001b[38;5;241;43m.\u001b[39;49m\u001b[43mindex\u001b[49m\u001b[43m]\u001b[49m\n\u001b[1;32m     54\u001b[0m \u001b[38;5;66;03m# nan的date个数即为不相交的个数\u001b[39;00m\n\u001b[1;32m     55\u001b[0m nan_cnt \u001b[38;5;241m=\u001b[39m kl_pd[\u001b[38;5;124m'\u001b[39m\u001b[38;5;124mdate\u001b[39m\u001b[38;5;124m'\u001b[39m]\u001b[38;5;241m.\u001b[39misnull()\u001b[38;5;241m.\u001b[39mvalue_counts()\n",
      "File \u001b[0;32m~/opt/anaconda3/lib/python3.9/site-packages/pandas/core/indexing.py:967\u001b[0m, in \u001b[0;36m_LocationIndexer.__getitem__\u001b[0;34m(self, key)\u001b[0m\n\u001b[1;32m    964\u001b[0m axis \u001b[38;5;241m=\u001b[39m \u001b[38;5;28mself\u001b[39m\u001b[38;5;241m.\u001b[39maxis \u001b[38;5;129;01mor\u001b[39;00m \u001b[38;5;241m0\u001b[39m\n\u001b[1;32m    966\u001b[0m maybe_callable \u001b[38;5;241m=\u001b[39m com\u001b[38;5;241m.\u001b[39mapply_if_callable(key, \u001b[38;5;28mself\u001b[39m\u001b[38;5;241m.\u001b[39mobj)\n\u001b[0;32m--> 967\u001b[0m \u001b[38;5;28;01mreturn\u001b[39;00m \u001b[38;5;28;43mself\u001b[39;49m\u001b[38;5;241;43m.\u001b[39;49m\u001b[43m_getitem_axis\u001b[49m\u001b[43m(\u001b[49m\u001b[43mmaybe_callable\u001b[49m\u001b[43m,\u001b[49m\u001b[43m \u001b[49m\u001b[43maxis\u001b[49m\u001b[38;5;241;43m=\u001b[39;49m\u001b[43maxis\u001b[49m\u001b[43m)\u001b[49m\n",
      "File \u001b[0;32m~/opt/anaconda3/lib/python3.9/site-packages/pandas/core/indexing.py:1191\u001b[0m, in \u001b[0;36m_LocIndexer._getitem_axis\u001b[0;34m(self, key, axis)\u001b[0m\n\u001b[1;32m   1188\u001b[0m     \u001b[38;5;28;01mif\u001b[39;00m \u001b[38;5;28mhasattr\u001b[39m(key, \u001b[38;5;124m\"\u001b[39m\u001b[38;5;124mndim\u001b[39m\u001b[38;5;124m\"\u001b[39m) \u001b[38;5;129;01mand\u001b[39;00m key\u001b[38;5;241m.\u001b[39mndim \u001b[38;5;241m>\u001b[39m \u001b[38;5;241m1\u001b[39m:\n\u001b[1;32m   1189\u001b[0m         \u001b[38;5;28;01mraise\u001b[39;00m \u001b[38;5;167;01mValueError\u001b[39;00m(\u001b[38;5;124m\"\u001b[39m\u001b[38;5;124mCannot index with multidimensional key\u001b[39m\u001b[38;5;124m\"\u001b[39m)\n\u001b[0;32m-> 1191\u001b[0m     \u001b[38;5;28;01mreturn\u001b[39;00m \u001b[38;5;28;43mself\u001b[39;49m\u001b[38;5;241;43m.\u001b[39;49m\u001b[43m_getitem_iterable\u001b[49m\u001b[43m(\u001b[49m\u001b[43mkey\u001b[49m\u001b[43m,\u001b[49m\u001b[43m \u001b[49m\u001b[43maxis\u001b[49m\u001b[38;5;241;43m=\u001b[39;49m\u001b[43maxis\u001b[49m\u001b[43m)\u001b[49m\n\u001b[1;32m   1193\u001b[0m \u001b[38;5;66;03m# nested tuple slicing\u001b[39;00m\n\u001b[1;32m   1194\u001b[0m \u001b[38;5;28;01mif\u001b[39;00m is_nested_tuple(key, labels):\n",
      "File \u001b[0;32m~/opt/anaconda3/lib/python3.9/site-packages/pandas/core/indexing.py:1132\u001b[0m, in \u001b[0;36m_LocIndexer._getitem_iterable\u001b[0;34m(self, key, axis)\u001b[0m\n\u001b[1;32m   1129\u001b[0m \u001b[38;5;28mself\u001b[39m\u001b[38;5;241m.\u001b[39m_validate_key(key, axis)\n\u001b[1;32m   1131\u001b[0m \u001b[38;5;66;03m# A collection of keys\u001b[39;00m\n\u001b[0;32m-> 1132\u001b[0m keyarr, indexer \u001b[38;5;241m=\u001b[39m \u001b[38;5;28;43mself\u001b[39;49m\u001b[38;5;241;43m.\u001b[39;49m\u001b[43m_get_listlike_indexer\u001b[49m\u001b[43m(\u001b[49m\u001b[43mkey\u001b[49m\u001b[43m,\u001b[49m\u001b[43m \u001b[49m\u001b[43maxis\u001b[49m\u001b[43m)\u001b[49m\n\u001b[1;32m   1133\u001b[0m \u001b[38;5;28;01mreturn\u001b[39;00m \u001b[38;5;28mself\u001b[39m\u001b[38;5;241m.\u001b[39mobj\u001b[38;5;241m.\u001b[39m_reindex_with_indexers(\n\u001b[1;32m   1134\u001b[0m     {axis: [keyarr, indexer]}, copy\u001b[38;5;241m=\u001b[39m\u001b[38;5;28;01mTrue\u001b[39;00m, allow_dups\u001b[38;5;241m=\u001b[39m\u001b[38;5;28;01mTrue\u001b[39;00m\n\u001b[1;32m   1135\u001b[0m )\n",
      "File \u001b[0;32m~/opt/anaconda3/lib/python3.9/site-packages/pandas/core/indexing.py:1327\u001b[0m, in \u001b[0;36m_LocIndexer._get_listlike_indexer\u001b[0;34m(self, key, axis)\u001b[0m\n\u001b[1;32m   1324\u001b[0m ax \u001b[38;5;241m=\u001b[39m \u001b[38;5;28mself\u001b[39m\u001b[38;5;241m.\u001b[39mobj\u001b[38;5;241m.\u001b[39m_get_axis(axis)\n\u001b[1;32m   1325\u001b[0m axis_name \u001b[38;5;241m=\u001b[39m \u001b[38;5;28mself\u001b[39m\u001b[38;5;241m.\u001b[39mobj\u001b[38;5;241m.\u001b[39m_get_axis_name(axis)\n\u001b[0;32m-> 1327\u001b[0m keyarr, indexer \u001b[38;5;241m=\u001b[39m \u001b[43max\u001b[49m\u001b[38;5;241;43m.\u001b[39;49m\u001b[43m_get_indexer_strict\u001b[49m\u001b[43m(\u001b[49m\u001b[43mkey\u001b[49m\u001b[43m,\u001b[49m\u001b[43m \u001b[49m\u001b[43maxis_name\u001b[49m\u001b[43m)\u001b[49m\n\u001b[1;32m   1329\u001b[0m \u001b[38;5;28;01mreturn\u001b[39;00m keyarr, indexer\n",
      "File \u001b[0;32m~/opt/anaconda3/lib/python3.9/site-packages/pandas/core/indexes/base.py:5782\u001b[0m, in \u001b[0;36mIndex._get_indexer_strict\u001b[0;34m(self, key, axis_name)\u001b[0m\n\u001b[1;32m   5779\u001b[0m \u001b[38;5;28;01melse\u001b[39;00m:\n\u001b[1;32m   5780\u001b[0m     keyarr, indexer, new_indexer \u001b[38;5;241m=\u001b[39m \u001b[38;5;28mself\u001b[39m\u001b[38;5;241m.\u001b[39m_reindex_non_unique(keyarr)\n\u001b[0;32m-> 5782\u001b[0m \u001b[38;5;28;43mself\u001b[39;49m\u001b[38;5;241;43m.\u001b[39;49m\u001b[43m_raise_if_missing\u001b[49m\u001b[43m(\u001b[49m\u001b[43mkeyarr\u001b[49m\u001b[43m,\u001b[49m\u001b[43m \u001b[49m\u001b[43mindexer\u001b[49m\u001b[43m,\u001b[49m\u001b[43m \u001b[49m\u001b[43maxis_name\u001b[49m\u001b[43m)\u001b[49m\n\u001b[1;32m   5784\u001b[0m keyarr \u001b[38;5;241m=\u001b[39m \u001b[38;5;28mself\u001b[39m\u001b[38;5;241m.\u001b[39mtake(indexer)\n\u001b[1;32m   5785\u001b[0m \u001b[38;5;28;01mif\u001b[39;00m \u001b[38;5;28misinstance\u001b[39m(key, Index):\n\u001b[1;32m   5786\u001b[0m     \u001b[38;5;66;03m# GH 42790 - Preserve name from an Index\u001b[39;00m\n",
      "File \u001b[0;32m~/opt/anaconda3/lib/python3.9/site-packages/pandas/core/indexes/base.py:5845\u001b[0m, in \u001b[0;36mIndex._raise_if_missing\u001b[0;34m(self, key, indexer, axis_name)\u001b[0m\n\u001b[1;32m   5842\u001b[0m     \u001b[38;5;28;01mraise\u001b[39;00m \u001b[38;5;167;01mKeyError\u001b[39;00m(\u001b[38;5;124mf\u001b[39m\u001b[38;5;124m\"\u001b[39m\u001b[38;5;124mNone of [\u001b[39m\u001b[38;5;132;01m{\u001b[39;00mkey\u001b[38;5;132;01m}\u001b[39;00m\u001b[38;5;124m] are in the [\u001b[39m\u001b[38;5;132;01m{\u001b[39;00maxis_name\u001b[38;5;132;01m}\u001b[39;00m\u001b[38;5;124m]\u001b[39m\u001b[38;5;124m\"\u001b[39m)\n\u001b[1;32m   5844\u001b[0m not_found \u001b[38;5;241m=\u001b[39m \u001b[38;5;28mlist\u001b[39m(ensure_index(key)[missing_mask\u001b[38;5;241m.\u001b[39mnonzero()[\u001b[38;5;241m0\u001b[39m]]\u001b[38;5;241m.\u001b[39munique())\n\u001b[0;32m-> 5845\u001b[0m \u001b[38;5;28;01mraise\u001b[39;00m \u001b[38;5;167;01mKeyError\u001b[39;00m(\u001b[38;5;124mf\u001b[39m\u001b[38;5;124m\"\u001b[39m\u001b[38;5;132;01m{\u001b[39;00mnot_found\u001b[38;5;132;01m}\u001b[39;00m\u001b[38;5;124m not in index\u001b[39m\u001b[38;5;124m\"\u001b[39m)\n",
      "\u001b[0;31mKeyError\u001b[0m: \"[Timestamp('2011-09-12 00:00:00'), Timestamp('2011-10-03 00:00:00'), Timestamp('2011-10-04 00:00:00'), Timestamp('2011-10-05 00:00:00'), Timestamp('2011-10-06 00:00:00'), Timestamp('2011-10-07 00:00:00'), Timestamp('2011-12-02 00:00:00'), Timestamp('2012-01-03 00:00:00'), Timestamp('2012-01-23 00:00:00'), Timestamp('2012-01-24 00:00:00'), Timestamp('2012-01-25 00:00:00'), Timestamp('2012-01-26 00:00:00'), Timestamp('2012-01-27 00:00:00'), Timestamp('2012-04-02 00:00:00'), Timestamp('2012-04-03 00:00:00'), Timestamp('2012-04-04 00:00:00'), Timestamp('2012-04-30 00:00:00'), Timestamp('2012-05-01 00:00:00'), Timestamp('2012-06-22 00:00:00'), Timestamp('2012-10-01 00:00:00'), Timestamp('2012-10-02 00:00:00'), Timestamp('2012-10-03 00:00:00'), Timestamp('2012-10-04 00:00:00'), Timestamp('2012-10-05 00:00:00'), Timestamp('2013-01-02 00:00:00'), Timestamp('2013-01-03 00:00:00'), Timestamp('2013-02-11 00:00:00'), Timestamp('2013-02-12 00:00:00'), Timestamp('2013-02-13 00:00:00'), Timestamp('2013-02-14 00:00:00'), Timestamp('2013-02-15 00:00:00'), Timestamp('2013-04-04 00:00:00'), Timestamp('2013-04-05 00:00:00'), Timestamp('2013-04-29 00:00:00'), Timestamp('2013-04-30 00:00:00'), Timestamp('2013-05-01 00:00:00'), Timestamp('2013-06-10 00:00:00'), Timestamp('2013-06-11 00:00:00'), Timestamp('2013-06-12 00:00:00'), Timestamp('2013-09-19 00:00:00'), Timestamp('2013-09-20 00:00:00'), Timestamp('2013-10-01 00:00:00'), Timestamp('2013-10-02 00:00:00'), Timestamp('2013-10-03 00:00:00'), Timestamp('2013-10-04 00:00:00'), Timestamp('2013-10-07 00:00:00'), Timestamp('2013-11-20 00:00:00'), Timestamp('2014-01-31 00:00:00'), Timestamp('2014-02-03 00:00:00'), Timestamp('2014-02-04 00:00:00'), Timestamp('2014-02-05 00:00:00'), Timestamp('2014-02-06 00:00:00'), Timestamp('2014-04-07 00:00:00'), Timestamp('2014-05-02 00:00:00'), Timestamp('2014-06-02 00:00:00'), Timestamp('2014-09-08 00:00:00'), Timestamp('2014-10-01 00:00:00'), Timestamp('2014-10-02 00:00:00'), Timestamp('2014-10-03 00:00:00'), Timestamp('2014-10-06 00:00:00'), Timestamp('2014-10-07 00:00:00'), Timestamp('2015-01-02 00:00:00'), Timestamp('2015-02-18 00:00:00'), Timestamp('2015-02-19 00:00:00'), Timestamp('2015-02-20 00:00:00'), Timestamp('2015-02-23 00:00:00'), Timestamp('2015-02-24 00:00:00'), Timestamp('2015-05-01 00:00:00'), Timestamp('2015-06-22 00:00:00'), Timestamp('2015-07-02 00:00:00'), Timestamp('2015-09-04 00:00:00'), Timestamp('2015-10-02 00:00:00'), Timestamp('2015-10-05 00:00:00'), Timestamp('2015-10-06 00:00:00'), Timestamp('2015-10-07 00:00:00'), Timestamp('2016-02-08 00:00:00'), Timestamp('2016-02-09 00:00:00'), Timestamp('2016-02-10 00:00:00'), Timestamp('2016-02-11 00:00:00'), Timestamp('2016-02-12 00:00:00'), Timestamp('2016-04-04 00:00:00'), Timestamp('2016-05-02 00:00:00'), Timestamp('2016-06-09 00:00:00'), Timestamp('2016-06-10 00:00:00')] not in index\""
     ]
    }
   ],
   "source": [
    "speed_pair = tl.execute.calc_pair_speed('CU0', 'CAD', \n",
    "                                        start='2011-07-28', end='2016-07-26', show=True)\n",
    "speed_pair[0], speed_pair[1]"
   ]
  },
  {
   "cell_type": "markdown",
   "metadata": {},
   "source": [
    "上面的计算结果0.57为CU0对趋势变化敏感速度，0.52为CAD对趋势变化敏感速度，即CU0的对趋势变化的敏感度大于CAD，且大于0.03具备低频统计套利的条件。（大于0.05认为具有安全低频统计套利机会，具体这些阀值将在之后的章节讲解）\n",
    "\n",
    "在低频统计套利的情况下将会使用CAD做为交易目标，CU0做为趋势风标，因为它的敏感度高，下面初始化一个字典，key为将会使用做为交易目标的CAD，value为做为趋势风标CU0，如下所示："
   ]
  },
  {
   "cell_type": "code",
   "execution_count": null,
   "metadata": {},
   "outputs": [],
   "source": [
    "pair_dict = {}\n",
    "pair_dict['CAD'] = 'CU0'"
   ]
  },
  {
   "cell_type": "markdown",
   "metadata": {},
   "source": [
    "下面计算沪铝（AL0）和伦敦铝（AHD）对趋势变化的敏感速度，如下："
   ]
  },
  {
   "cell_type": "code",
   "execution_count": null,
   "metadata": {},
   "outputs": [],
   "source": [
    "speed_pair = tl.execute.calc_pair_speed('AL0', 'AHD', \n",
    "                                        start='2011-07-28', end='2016-07-26', show=True)\n",
    "speed_pair[0], speed_pair[1]"
   ]
  },
  {
   "cell_type": "markdown",
   "metadata": {},
   "source": [
    "上面的计算结果0.61为沪铝（AL0）对趋势变化敏感速度，0.57为伦敦铝（AHD）对趋势变化敏感速度，即AL0对趋势变化的敏感度大于AHD，且大于0.03具备低频统计套利的条件。\n",
    "\n",
    "字典中key为将会使用做为交易目标的低敏感AHD，value为做为趋势风标的高敏感AL0，如下所示："
   ]
  },
  {
   "cell_type": "code",
   "execution_count": null,
   "metadata": {},
   "outputs": [],
   "source": [
    "pair_dict['AHD'] = 'AL0'"
   ]
  },
  {
   "cell_type": "markdown",
   "metadata": {},
   "source": [
    "下面计算国内黄金（AU0）和伦敦黄金（XAU）对趋势变化的敏感速度，如下："
   ]
  },
  {
   "cell_type": "code",
   "execution_count": null,
   "metadata": {
    "scrolled": false
   },
   "outputs": [],
   "source": [
    "speed_pair = tl.execute.calc_pair_speed('AU0', 'XAU', \n",
    "                                        start='2012-07-28', end='2016-07-26', show=True)\n",
    "speed_pair[0], speed_pair[1]"
   ]
  },
  {
   "cell_type": "markdown",
   "metadata": {},
   "source": [
    "上面的计算结果0.58为国内黄金（AU0）对趋势变化敏感速度，0.61为伦敦黄金（XAU）对趋势变化敏感速度，即外盘敏感速度快于国内期货趋势变化敏感速度，之前的两个都为国内期货趋势变化敏感速度快于外盘敏感速度。\n",
    "\n",
    "字典中key为将会使用做为交易目标的低敏感国内黄金（AU0），value为做为趋势风标的高敏感伦敦黄金（XAU），如下所示："
   ]
  },
  {
   "cell_type": "code",
   "execution_count": null,
   "metadata": {},
   "outputs": [],
   "source": [
    "pair_dict['AU0'] = 'XAU'"
   ]
  },
  {
   "cell_type": "markdown",
   "metadata": {},
   "source": [
    "下面计算国内白银（AG0）和伦敦白银（XAG）对趋势变化的敏感速度，如下："
   ]
  },
  {
   "cell_type": "code",
   "execution_count": null,
   "metadata": {},
   "outputs": [],
   "source": [
    "speed_pair = tl.execute.calc_pair_speed('AG0', 'XAG', \n",
    "                                        start='2012-07-28', end='2016-07-26', show=True)\n",
    "speed_pair[0], speed_pair[1]"
   ]
  },
  {
   "cell_type": "markdown",
   "metadata": {},
   "source": [
    "上面的计算结果0.55为国内白银（AG0）对趋势变化敏感速度，0.60为伦敦白银（XAG）对趋势变化敏感速度，即白银的外盘敏感速度也快于国内期货趋势变化敏感速度。\n",
    "\n",
    "字典中key为将会使用做为交易目标的低敏感国内白银（AG0），value为做为趋势风标的高敏感伦敦白银（XAG），如下所示："
   ]
  },
  {
   "cell_type": "code",
   "execution_count": null,
   "metadata": {},
   "outputs": [],
   "source": [
    "pair_dict['AG0'] = 'XAG'"
   ]
  },
  {
   "cell_type": "markdown",
   "metadata": {},
   "source": [
    "下面计算沪锌（ZN0）和伦敦锌（SND）对趋势变化的敏感速度，如下："
   ]
  },
  {
   "cell_type": "code",
   "execution_count": null,
   "metadata": {},
   "outputs": [],
   "source": [
    "speed_pair = tl.execute.calc_pair_speed('ZN0', 'SND', \n",
    "                           start='2011-07-28', end='2016-07-26', show=True)\n",
    "speed_pair[0], speed_pair[1]"
   ]
  },
  {
   "cell_type": "markdown",
   "metadata": {},
   "source": [
    "字典中key为将会使用做为交易目标的低敏感伦敦锌（SND），value为做为趋势风标的高敏感沪锌（ZN0），如下所示："
   ]
  },
  {
   "cell_type": "code",
   "execution_count": null,
   "metadata": {},
   "outputs": [],
   "source": [
    "pair_dict['SND'] = 'ZN0'"
   ]
  },
  {
   "cell_type": "markdown",
   "metadata": {
    "collapsed": true
   },
   "source": [
    "下面计算沪铅（PB0）和伦敦铅（PBD）对趋势变化的敏感速度，如下："
   ]
  },
  {
   "cell_type": "code",
   "execution_count": null,
   "metadata": {},
   "outputs": [],
   "source": [
    "speed_pair = tl.execute.calc_pair_speed('PB0', 'PBD', start='2011-07-28', end='2016-07-26', show=True)\n",
    "speed_pair[0], speed_pair[1]"
   ]
  },
  {
   "cell_type": "markdown",
   "metadata": {},
   "source": [
    "上面的计算结果0.50为沪铅（PB0）对趋势变化敏感速度，0.59为伦敦铅（PBD）对趋势变化敏感速度，差值达到0.09远大于0.03，是非常好的低频统计套利配对。\n",
    "\n",
    "字典中key为将会使用做为交易目标的低敏感沪铅（PB0），value为做为趋势风标的高敏感伦敦铅（PBD），如下所示："
   ]
  },
  {
   "cell_type": "code",
   "execution_count": null,
   "metadata": {},
   "outputs": [],
   "source": [
    "pair_dict['PB0'] = 'PBD'"
   ]
  },
  {
   "cell_type": "markdown",
   "metadata": {},
   "source": [
    "上面即选定了跨市场低频统计套利的交易配对字典，key为为交易目标的低敏感，value为做为趋势风标的高敏感，如下："
   ]
  },
  {
   "cell_type": "code",
   "execution_count": null,
   "metadata": {},
   "outputs": [],
   "source": [
    "pair_dict"
   ]
  },
  {
   "cell_type": "markdown",
   "metadata": {},
   "source": [
    "### 3.  基于跨市场低频统计套利的突破策略\n",
    "\n",
    "下面编写择时交易策略实现这个跨市场低频统计套利的交易配对，如下所示："
   ]
  },
  {
   "cell_type": "code",
   "execution_count": null,
   "metadata": {},
   "outputs": [],
   "source": [
    "class AbuFactorBuyPairBreak(AbuFactorBuyXD, BuyCallMixin):\n",
    "    \"\"\"跨市场低频统计套利策略示例\"\"\"\n",
    "    def _init_self(self, **kwargs):\n",
    "        # 根据做为低敏感的交易目标从字典中获取做为趋势风标的高敏感目标\n",
    "        pair_symbol = pair_dict[self.kl_pd.name]\n",
    "        # 获取做为趋势风标的高敏感交易目标金融时间序列\n",
    "        self.pair_kl_pd = ABuSymbolPd.make_kl_df(\n",
    "            pair_symbol, data_mode=EMarketDataSplitMode.E_DATA_SPLIT_UNDO,\n",
    "            benchmark=self.benchmark)\n",
    "        # 是否今天就买入，还是再降低频率明天买\n",
    "        self.td_buy = kwargs.pop('buy_today', True)\n",
    "        # 下面和趋势突破策略编码一样，设置突破周期参数，eg：21，42...\n",
    "        self.xd = kwargs['xd']\n",
    "        \n",
    "    def fit_day(self, today):\n",
    "        # 获取做为趋势风标的高敏感目标今天交易数据\n",
    "        pair_today = self.pair_kl_pd.iloc[self.today_ind]\n",
    "        # 做为趋势风标的高敏感目标今天突破了，则买入的是低敏感的交易目标\n",
    "        if pair_today.close == self.pair_kl_pd.close[self.today_ind - \n",
    "                                                     self.xd + 1:self.today_ind + 1].max():\n",
    "            # 生成买入订单, 纯低频，明天买，也可以今天买，因为本来就是跨市场的\n",
    "            return self.buy_today() if self.td_buy else self.buy_tomorrow()\n",
    "        return None"
   ]
  },
  {
   "cell_type": "markdown",
   "metadata": {},
   "source": [
    "策略编写如上AbuFactorBuyPairBreak所示和之前章节一直使用的周期突破策略AbuFactorBuyBreak唯一不同的只有突破信号发出者为趋势风标的高敏感目标，一旦高敏感目标今天突破了，则买入的是低敏感的交易目标。\n",
    "\n",
    "下面使用这个买入策略进行回测，卖出策略依然延用之前的策略，如下所示："
   ]
  },
  {
   "cell_type": "code",
   "execution_count": null,
   "metadata": {},
   "outputs": [],
   "source": [
    "abupy.env.g_market_target = EMarketTargetType.E_MARKET_TARGET_FUTURES_CN\n",
    "\n",
    "read_cash = 10000000\n",
    "# 卖出因子继续使用上一节使用的因子\n",
    "sell_factors = [\n",
    "    {'stop_loss_n': 1.0, 'stop_win_n': 3.0,\n",
    "     'class': AbuFactorAtrNStop},\n",
    "    {'class': AbuFactorPreAtrNStop, 'pre_atr_n': 1.5},\n",
    "    {'class': AbuFactorCloseAtrNStop, 'close_atr_n': 1.5}\n",
    "]\n",
    "\n",
    "# 买入策略使用AbuFactorBuyPairBreak\n",
    "buy_factors = [{'xd': 5, 'class': AbuFactorBuyPairBreak},\n",
    "               {'xd': 10, 'class': AbuFactorBuyPairBreak}]\n",
    "\n",
    "abu_result_tuple, kl_pd_manger = abu.run_loop_back(read_cash,\n",
    "                                                   buy_factors,\n",
    "                                                   sell_factors,\n",
    "                                                   start='2016-07-26', \n",
    "                                                   end='2017-07-26',\n",
    "                                                   choice_symbols=pair_dict.keys(),\n",
    "                                                   n_process_pick=1)\n",
    "ABuProgress.clear_output()\n",
    "AbuMetricsBase.show_general(*abu_result_tuple, only_show_returns=True)"
   ]
  },
  {
   "cell_type": "markdown",
   "metadata": {},
   "source": [
    "回测结果如上所示，对比未基于内外盘统计套利的普通突破策略回测可以看到回测效果提升很多，如下所示："
   ]
  },
  {
   "cell_type": "code",
   "execution_count": null,
   "metadata": {},
   "outputs": [],
   "source": [
    "buy_factors = [{'xd': 5, 'class': AbuFactorBuyBreak},\n",
    "               {'xd': 10, 'class': AbuFactorBuyBreak}]\n",
    "\n",
    "abu_result_tuple, kl_pd_manger = abu.run_loop_back(read_cash,\n",
    "                                                   buy_factors,\n",
    "                                                   sell_factors,\n",
    "                                                   start='2016-07-26', \n",
    "                                                   end='2017-07-26',\n",
    "                                                   choice_symbols=pair_dict.keys())\n",
    "ABuProgress.clear_output()\n",
    "AbuMetricsBase.show_general(*abu_result_tuple, only_show_returns=True)"
   ]
  },
  {
   "cell_type": "markdown",
   "metadata": {},
   "source": [
    "而且即使再次降低交易频度，不使用跨市场套利的时间优势，选择再隔一天买入交易目标，即下面的构造因子参数buy_today=False，可以看到回测的结果依然好于未基于内外盘统计套利的普通突破策略回测结果。"
   ]
  },
  {
   "cell_type": "code",
   "execution_count": null,
   "metadata": {},
   "outputs": [],
   "source": [
    "# 买入策略使用AbuFactorBuyPairBreak\n",
    "buy_factors = [{'xd': 5, 'class': AbuFactorBuyPairBreak, 'buy_today': False},\n",
    "               {'xd': 10, 'class': AbuFactorBuyPairBreak, 'buy_today': False}]\n",
    "\n",
    "abu_result_tuple, kl_pd_manger = abu.run_loop_back(read_cash,\n",
    "                                                   buy_factors,\n",
    "                                                   sell_factors,\n",
    "                                                   start='2016-07-26', \n",
    "                                                   end='2017-07-26',\n",
    "                                                   choice_symbols=pair_dict.keys(), \n",
    "                                                   n_process_pick=1)\n",
    "ABuProgress.clear_output()\n",
    "AbuMetricsBase.show_general(*abu_result_tuple, only_show_returns=True)"
   ]
  },
  {
   "cell_type": "markdown",
   "metadata": {},
   "source": [
    "### 4. 其它市场的配对低频统计套利\n",
    "\n",
    "上述基于期货市场的配对统计套利基于一个条件：两个市场的期货产品相关度非常高，对于期货市场这个条件是天然成立的，但对于其它市场就需要从相关度进行验证，如下使用calc_pair_speed计算比特币和莱特币的趋势变化敏感速度："
   ]
  },
  {
   "cell_type": "code",
   "execution_count": null,
   "metadata": {},
   "outputs": [],
   "source": [
    "speed_pair = tl.execute.calc_pair_speed('btc', 'ltc', \n",
    "                           start='2014-03-19', end='2017-07-26', show=True)\n",
    "speed_pair"
   ]
  },
  {
   "cell_type": "markdown",
   "metadata": {},
   "source": [
    "上述第一个结果0.599是btc的趋势变化敏感速度，0.583是ltc的趋势敏感速度，第三个值0.78是btc和ltc的相关度值。\n",
    "\n",
    "如下计算btc和ltc的速度差："
   ]
  },
  {
   "cell_type": "code",
   "execution_count": null,
   "metadata": {},
   "outputs": [],
   "source": [
    "(0.599 - 0.583) * 0.78"
   ]
  },
  {
   "cell_type": "markdown",
   "metadata": {},
   "source": [
    "可以看到结果不具备配对低频统计套利的条件，实际上面示例期货产品中如ZN0，SND这样的配对也是不符合低频统计套利的条件的，如下："
   ]
  },
  {
   "cell_type": "code",
   "execution_count": null,
   "metadata": {},
   "outputs": [],
   "source": [
    "speed_pair = tl.execute.calc_pair_speed('ZN0', 'SND', \n",
    "                           start='2011-07-28', end='2016-07-26', show=False)\n",
    "print(speed_pair)\n",
    "(speed_pair[0] - speed_pair[1]) * speed_pair[2]"
   ]
  },
  {
   "cell_type": "markdown",
   "metadata": {},
   "source": [
    "结果如上所示，即使上述计算速度差满足低频统计套利的条件，但是由于相关度太低，结果也是不可信的，即在实际策略中相关度阀值是第一轮过滤条件，满足一定阀值的情况下才可以使用上述计算接口，之后的章节会示例如何在股票市场综合利用趋势变化敏感速度，相关度来进行低频配对统计套利，请关注公众号中教程更新提醒"
   ]
  }
 ],
 "metadata": {
  "kernelspec": {
   "display_name": "Python 3 (ipykernel)",
   "language": "python",
   "name": "python3"
  },
  "language_info": {
   "codemirror_mode": {
    "name": "ipython",
    "version": 3
   },
   "file_extension": ".py",
   "mimetype": "text/x-python",
   "name": "python",
   "nbconvert_exporter": "python",
   "pygments_lexer": "ipython3",
   "version": "3.9.12"
  },
  "widgets": {
   "state": {
    "25f721e90f6b4f55a75b1a78530f3713": {
     "views": [
      {
       "cell_index": 8
      }
     ]
    }
   },
   "version": "1.2.0"
  }
 },
 "nbformat": 4,
 "nbformat_minor": 2
}